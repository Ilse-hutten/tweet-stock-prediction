{
 "cells": [
  {
   "cell_type": "markdown",
   "id": "067c142b",
   "metadata": {},
   "source": [
    "# Scraping Tweets with playwright"
   ]
  },
  {
   "cell_type": "code",
   "execution_count": 146,
   "id": "9d39d88b",
   "metadata": {
    "lines_to_next_cell": 2
   },
   "outputs": [],
   "source": [
    "\"\"\"\n",
    "01_data_preprocessing.py\n",
    "\n",
    "This script preprocesses raw tweet data for sentiment analysis.\n",
    "It includes cleaning functions, tokenization, sentiment scoring,\n",
    "and saves the processed dataset for model training.\n",
    "\"\"\"\n",
    "\n",
    "# Standard Library Imports\n",
    "import datetime as dt\n",
    "import random\n",
    "import re\n",
    "import asyncio\n",
    "from datetime import datetime, timedelta\n",
    "\n",
    "# Data Handling\n",
    "import pandas as pd\n",
    "import yfinance as yf\n",
    "\n",
    "# Text Processing & Sentiment Analysis\n",
    "import nltk\n",
    "from nltk.tokenize import word_tokenize\n",
    "from nltk.corpus import stopwords\n",
    "from nltk.stem.wordnet import WordNetLemmatizer\n",
    "from vaderSentiment.vaderSentiment import SentimentIntensityAnalyzer\n",
    "import preprocessor as preprocessor_module\n",
    "\n",
    "# Web Scraping (If Needed)\n",
    "import nest_asyncio\n",
    "from playwright.async_api import async_playwright\n",
    "\n",
    "# Apply nest_asyncio patch for asyncio inside Jupyter\n",
    "nest_asyncio.apply()"
   ]
  },
  {
   "cell_type": "code",
   "execution_count": 8,
   "id": "8b17307d",
   "metadata": {
    "lines_to_next_cell": 2
   },
   "outputs": [
    {
     "name": "stdout",
     "output_type": "stream",
     "text": [
      "Requirement already satisfied: pycodestyle-magic in /home/ilse/.pyenv/versions/3.10.6/envs/lewagon/lib/python3.10/site-packages (0.5)\r\n"
     ]
    }
   ],
   "source": [
    "get_ipython().system(\"pip install pycodestyle-magic\")\n",
    "get_ipython().run_line_magic(\"load_ext\", \"pycodestyle_magic\")\n",
    "get_ipython().run_line_magic(\"pycodestyle_on\", \"\")"
   ]
  },
  {
   "cell_type": "code",
   "execution_count": 93,
   "id": "2bc84265",
   "metadata": {
    "lines_to_next_cell": 2
   },
   "outputs": [],
   "source": [
    "# Install required packages (only once)\n",
    "get_ipython().system(\n",
    "    \"pip install nest_asyncio playwright playwright-stealth pandas --quiet\"\n",
    ")\n",
    "\n",
    "# Install browser engines (Chromium) for Playwright\n",
    "get_ipython().system(\"playwright install\")"
   ]
  },
  {
   "cell_type": "code",
   "execution_count": 134,
   "id": "0dfbf73d",
   "metadata": {
    "lines_to_next_cell": 2
   },
   "outputs": [],
   "source": [
    "# Manual Login\n",
    "\n",
    "async def login_and_save_storage():\n",
    "    \"\"\"\n",
    "    Logs into Twitter manually using Playwright and saves session data.\n",
    "\n",
    "    Opens a non-headless browser for manual login, then stores authentication\n",
    "    credentials in 'twitter_auth.json'.\n",
    "\n",
    "    Returns:\n",
    "    None\n",
    "    \"\"\"\n",
    "    async with async_playwright() as pw:\n",
    "        browser = await pw.chromium.launch(headless=False)\n",
    "        context = await browser.new_context()\n",
    "        page = await context.new_page()\n",
    "\n",
    "        await page.goto(\"https://twitter.com/login\")\n",
    "        print(\"Log in manually in the browser window...\")\n",
    "\n",
    "        await asyncio.sleep(70)  # Time to log in\n",
    "\n",
    "        await context.storage_state(path=\"twitter_auth.json\")\n",
    "        print(\"Session saved to twitter_auth.json\")\n",
    "        await browser.close()\n",
    "\n",
    "\n",
    "asyncio.run(login_and_save_storage())"
   ]
  },
  {
   "cell_type": "code",
   "execution_count": 133,
   "id": "12699a93",
   "metadata": {
    "lines_to_next_cell": 2
   },
   "outputs": [
    {
     "name": "stderr",
     "output_type": "stream",
     "text": [
      "56:80: E501 line too long (97 > 79 characters)\n"
     ]
    }
   ],
   "source": [
    "# Testing scraping method for single tweet\n",
    "\n",
    "async def test_single_tweet():\n",
    "    \"\"\"\n",
    "    Scrapes a single tweet using Playwright.\n",
    "\n",
    "    Opens a browser session, navigates to the tweet URL, extracts the date,\n",
    "    username, and text, then prints the results.\n",
    "    \"\"\"\n",
    "    async with async_playwright() as pw:\n",
    "        browser = await pw.chromium.launch(headless=True)\n",
    "        context = await browser.new_context()\n",
    "        page = await context.new_page()\n",
    "\n",
    "        # Navigate to a single tweet\n",
    "        await page.goto(\n",
    "            \"https://x.com/StockMKTNewz/status/1889344331053404337\"\n",
    "        )\n",
    "\n",
    "        # Extract Tweet\n",
    "        await page.wait_for_selector(\n",
    "            \"article[aria-labelledby]\", timeout=10000\n",
    "        )  # Wait for up to 10s\n",
    "        tweet = await page.query_selector(\"article[aria-labelledby]\")\n",
    "\n",
    "        if tweet:\n",
    "            try:\n",
    "                # Extract Date\n",
    "                time_element = await tweet.query_selector(\"time\")\n",
    "                date = (\n",
    "                    await time_element.get_attribute(\"datetime\")\n",
    "                    if time_element\n",
    "                    else \"Unknown\"\n",
    "                )\n",
    "\n",
    "                # Extract Text\n",
    "                text_element = await tweet.query_selector(\"div[lang]\")\n",
    "                text = (\n",
    "                    await text_element.inner_text()\n",
    "                    if text_element\n",
    "                    else \"Unknown\"\n",
    "                )\n",
    "\n",
    "                # Extract Username\n",
    "                handles = await tweet.query_selector_all(\"a\")\n",
    "                username = \"Unknown\"\n",
    "                for h in handles:\n",
    "                    handle_text = await h.inner_text() or await h.evaluate(\n",
    "                        \"(el) => el.textContent\"\n",
    "                    )\n",
    "                    if handle_text.startswith(\"@\"):\n",
    "                        username = handle_text\n",
    "                        break  # Stop at first valid username\n",
    "\n",
    "                print(\n",
    "                    f\"📌 Tweet Extracted:\\n- Date: {date}\\n- Username: {username}\\n- Text: {text}\"\n",
    "                )\n",
    "\n",
    "            except Exception as e:\n",
    "                print(f\"Error extracting tweet: {e}\")\n",
    "\n",
    "        else:\n",
    "            print(\"No tweet found!\")\n",
    "\n",
    "        await browser.close()\n",
    "\n",
    "\n",
    "# Run the test\n",
    "asyncio.run(test_single_tweet())"
   ]
  },
  {
   "cell_type": "code",
   "execution_count": 135,
   "id": "e3f10d01",
   "metadata": {
    "lines_to_next_cell": 2
   },
   "outputs": [
    {
     "name": "stderr",
     "output_type": "stream",
     "text": [
      "32:80: E501 line too long (84 > 79 characters)\n",
      "34:80: E501 line too long (96 > 79 characters)\n",
      "35:80: E501 line too long (113 > 79 characters)\n",
      "48:80: E501 line too long (88 > 79 characters)\n",
      "53:13: E722 do not use bare 'except'\n",
      "90:80: E501 line too long (87 > 79 characters)\n",
      "98:80: E501 line too long (89 > 79 characters)\n",
      "215:80: E501 line too long (81 > 79 characters)\n"
     ]
    }
   ],
   "source": [
    "# Scraping tweets of Netflix and Amazon\n",
    "\n",
    "nest_asyncio.apply()\n",
    "\n",
    "\n",
    "async def scrape_twitter(\n",
    "    stock, start_date, end_date, accounts, retries=3, timeout=120000\n",
    "):\n",
    "    \"\"\"\n",
    "    Scrapes tweets about a stock from specific accounts within a date range.\n",
    "\n",
    "    Args:\n",
    "        stock (str): Stock symbol or keyword.\n",
    "        start_date (str): Start date (YYYY-MM-DD).\n",
    "        end_date (str): End date (YYYY-MM-DD).\n",
    "        accounts (list): Twitter accounts to filter.\n",
    "        retries (int, optional): Retry attempts. Defaults to 3.\n",
    "        timeout (int, optional): Page load timeout (ms). Defaults to 120000.\n",
    "\n",
    "    Returns:\n",
    "        None\n",
    "    \"\"\"\n",
    "    async with async_playwright() as pw:\n",
    "        browser = await pw.chromium.launch(headless=False)\n",
    "        context = await browser.new_context(storage_state=\"twitter_auth.json\")\n",
    "        page = await context.new_page()\n",
    "\n",
    "        all_tweets = []  # Store tweets from all accounts\n",
    "\n",
    "        for account in accounts:\n",
    "            print(\n",
    "                f\"🔄 Collecting tweets for {account} from {start_date} to {end_date}\"\n",
    "            )\n",
    "            search_query = f\"{stock} from:{account} since:{start_date} until:{end_date} lang:en\"\n",
    "            final_url = f\"https://twitter.com/search?q={search_query.replace(' ', '%20')}&src=typed_query&f=live\"\n",
    "\n",
    "            print(f\"🔍 Searching {account}: {final_url}\")\n",
    "            await page.goto(final_url, timeout=timeout)\n",
    "\n",
    "            # Click \"Latest\" tab explicitly after search loads\n",
    "            try:\n",
    "                await page.wait_for_selector(\"text=Latest\", timeout=10000)\n",
    "                await page.click(\"text=Latest\")\n",
    "                print(\"✅ Clicked 'Latest' tab.\")\n",
    "            except Exception as e:\n",
    "                print(f\"⚠️ 'Latest' tab click skipped - error: {e}\")\n",
    "\n",
    "            # Ensure tweets load before scraping, but handle cases where no tweets exist\n",
    "            try:\n",
    "                await page.wait_for_selector(\n",
    "                    \"article[aria-labelledby], article\", timeout=15000\n",
    "                )  # note that twitter frequently changes DOM structure\n",
    "            except:\n",
    "                print(f\"⚠️ No tweets found for {account}. Skipping...\")\n",
    "                all_tweets.append(\n",
    "                    {\n",
    "                        \"tweet\": \"No tweets found\",\n",
    "                        \"date\": \"N/A\",\n",
    "                        \"account\": account,\n",
    "                    }\n",
    "                )\n",
    "                continue  # Skip to the next account\n",
    "\n",
    "            # Fetch initial tweets\n",
    "            tweet_elements = await page.query_selector_all(\n",
    "                \"article[aria-labelledby], article\"\n",
    "            )\n",
    "            print(f\"🔍 Found {len(tweet_elements)} tweets before scrolling.\")\n",
    "\n",
    "            # Scroll dynamically **only if tweets exist**\n",
    "            if tweet_elements:\n",
    "                previous_tweet_count = 0\n",
    "                scroll_attempts = 0\n",
    "\n",
    "                while scroll_attempts < 50:  # Avoid infinite scrolling\n",
    "                    await page.evaluate(\n",
    "                        \"window.scrollBy(0, 2000 + Math.random() * 500)\"\n",
    "                    )\n",
    "                    await asyncio.sleep(random.uniform(2, 5))\n",
    "\n",
    "                    tweet_elements = await page.query_selector_all(\n",
    "                        \"article[aria-labelledby], article\"\n",
    "                    )\n",
    "                    current_tweet_count = len(tweet_elements)\n",
    "\n",
    "                    if (\n",
    "                        current_tweet_count == previous_tweet_count\n",
    "                    ):  # No new tweets loaded\n",
    "                        print(\n",
    "                            f\"✅ No new tweets detected for {account}, stopping scroll.\"\n",
    "                        )\n",
    "                        break\n",
    "\n",
    "                    previous_tweet_count = current_tweet_count\n",
    "                    scroll_attempts += 1\n",
    "            else:\n",
    "                print(\n",
    "                    f\"⚠️ No tweets detected initially for {account}, skipping scrolling.\"\n",
    "                )\n",
    "\n",
    "            # Extract tweets\n",
    "            for tweet in tweet_elements:\n",
    "                try:\n",
    "                    time_element = await tweet.query_selector(\"time\")\n",
    "                    date = (\n",
    "                        await time_element.get_attribute(\"datetime\")\n",
    "                        if time_element\n",
    "                        else \"Unknown\"\n",
    "                    )\n",
    "\n",
    "                    text_element = await tweet.query_selector(\"div[lang]\")\n",
    "                    text = (\n",
    "                        await text_element.inner_text()\n",
    "                        if text_element\n",
    "                        else \"Unknown\"\n",
    "                    )\n",
    "\n",
    "                    handles = await tweet.query_selector_all(\"a\")\n",
    "                    username = \"Unknown\"\n",
    "                    for h in handles:\n",
    "                        handle_text = await h.inner_text() or await h.evaluate(\n",
    "                            \"(el) => el.textContent\"\n",
    "                        )\n",
    "                        if handle_text.startswith(\"@\"):\n",
    "                            username = handle_text\n",
    "                            break\n",
    "\n",
    "                    # Append all tweets without filtering by \"$NFLX\"\n",
    "                    all_tweets.append(\n",
    "                        {\n",
    "                            \"tweet\": text.strip(),\n",
    "                            \"date\": date,\n",
    "                            \"account\": username,\n",
    "                        }\n",
    "                    )\n",
    "\n",
    "                except Exception as e:\n",
    "                    print(f\"⚠️ Error processing tweet: {e}\")\n",
    "\n",
    "        await browser.close()\n",
    "        return pd.DataFrame(all_tweets).drop_duplicates(\n",
    "            subset=[\"tweet\"]\n",
    "        )  # Remove duplicate tweets\n",
    "\n",
    "START_DATE = \"2024-06-01\"\n",
    "END_DATE = \"2025-04-01\"\n",
    "\n",
    "\n",
    "async def collect_tweets(\n",
    "    stock, start_date, end_date, accounts, filename_prefix\n",
    "):\n",
    "    current_date = datetime.strptime(start_date, \"%Y-%m-%d\")\n",
    "    end_date_dt = datetime.strptime(end_date, \"%Y-%m-%d\")\n",
    "    all_tweets = pd.DataFrame()\n",
    "    weeks_processed = 0\n",
    "\n",
    "    while current_date < end_date_dt:\n",
    "        week_end = min(current_date + timedelta(days=7), end_date_dt)\n",
    "        week_start_str = current_date.strftime(\"%Y-%m-%d\")\n",
    "        week_end_str = week_end.strftime(\"%Y-%m-%d\")\n",
    "        print(f\"🔄 Collecting tweets from {week_start_str} to {week_end_str}\")\n",
    "\n",
    "        weekly_df = await scrape_twitter(\n",
    "            stock, week_start_str, week_end_str, accounts\n",
    "        )\n",
    "        all_tweets = pd.concat([all_tweets, weekly_df], ignore_index=True)\n",
    "        current_date = week_end\n",
    "        weeks_processed += 1\n",
    "\n",
    "        # Save progress every 4 weeks\n",
    "        if weeks_processed % 4 == 0:\n",
    "            checkpoint_file = (\n",
    "                f\"{filename_prefix}_checkpoint_{week_start_str}.csv\"\n",
    "            )\n",
    "            all_tweets.to_csv(checkpoint_file, index=False)\n",
    "            print(f\"💾 Saved intermediate results to {checkpoint_file}\")\n",
    "\n",
    "    return all_tweets\n",
    "\n",
    "\n",
    "async def main():\n",
    "    accounts = [\n",
    "        \"cnbc\",\n",
    "        \"Stocktwits\",\n",
    "        \"WSJ\",\n",
    "        \"reuters\",\n",
    "        \"forbes\",\n",
    "        \"RobinJPowell\",\n",
    "        \"WSJDealJournal\",\n",
    "        \"Benzinga\",\n",
    "        \"EventDrivenMgr\",\n",
    "        \"SeekingAlpha\",\n",
    "        \"WSJmarkets\",\n",
    "        \"Business\",\n",
    "        \"tradingguru\",\n",
    "        \"marketcurrents\",\n",
    "        \"financialtimes\",\n",
    "        \"elonmusk\",\n",
    "        \"SpiegelPeter\",\n",
    "        \"BillGates\",\n",
    "        \"bespokeinvest\",\n",
    "        \"AlphaTrends\",\n",
    "        \"StockMKTNewz\",\n",
    "        \"PeterLBrandt\",\n",
    "        \"JPMorgan\",\n",
    "        \"SvenHenrich\",\n",
    "        \"Bloomberg\",\n",
    "    ]\n",
    "\n",
    "    netflix_tweets = await collect_tweets(\n",
    "        \"Netflix OR $NFLX\", START_DATE, END_DATE, accounts, \"netflix\"\n",
    "    )\n",
    "    netflix_tweets.to_csv(\"netflix_tweets.csv\", index=False)\n",
    "    print(\n",
    "        f\"✅ Saved {len(netflix_tweets)} tweets for Netflix to netflix_tweets.csv\"\n",
    "    )\n",
    "\n",
    "    amazon_tweets = await collect_tweets(\n",
    "        \"Amazon OR $AMZN\", START_DATE, END_DATE, accounts, \"amazon\"\n",
    "    )\n",
    "    amazon_tweets.to_csv(\"amazon_tweets.csv\", index=False)\n",
    "    print(\n",
    "        f\"✅ Saved {len(amazon_tweets)} tweets for Amazon to amazon_tweets.csv\"\n",
    "    )\n",
    "\n",
    "\n",
    "asyncio.run(main())"
   ]
  },
  {
   "cell_type": "code",
   "execution_count": 136,
   "id": "0a234af6",
   "metadata": {},
   "outputs": [],
   "source": [
    "# Import datasets of tweets\n",
    "netflix_df = pd.read_csv(\"netflix_all_tweets.csv\")\n",
    "amazon_df = pd.read_csv(\"amazon_all_tweets.csv\")\n",
    "\n",
    "# drop duplicates\n",
    "netflix_df = netflix_df.drop_duplicates(subset=\"tweet\", keep=\"first\")\n",
    "amazon_df = amazon_df.drop_duplicates(subset=\"tweet\", keep=\"first\")\n",
    "\n",
    "print(netflix_df.shape)\n",
    "print(amazon_df.shape)"
   ]
  },
  {
   "cell_type": "markdown",
   "id": "32caf44b",
   "metadata": {},
   "source": [
    "# **Tweet Preprocessing**"
   ]
  },
  {
   "cell_type": "code",
   "execution_count": 137,
   "id": "a283b8f4",
   "metadata": {
    "lines_to_next_cell": 2
   },
   "outputs": [
    {
     "data": {
      "text/html": [
       "<div>\n",
       "<style scoped>\n",
       "    .dataframe tbody tr th:only-of-type {\n",
       "        vertical-align: middle;\n",
       "    }\n",
       "\n",
       "    .dataframe tbody tr th {\n",
       "        vertical-align: top;\n",
       "    }\n",
       "\n",
       "    .dataframe thead th {\n",
       "        text-align: right;\n",
       "    }\n",
       "</style>\n",
       "<table border=\"1\" class=\"dataframe\">\n",
       "  <thead>\n",
       "    <tr style=\"text-align: right;\">\n",
       "      <th></th>\n",
       "      <th>tweet</th>\n",
       "      <th>date</th>\n",
       "      <th>account</th>\n",
       "      <th>stock</th>\n",
       "    </tr>\n",
       "  </thead>\n",
       "  <tbody>\n",
       "    <tr>\n",
       "      <th>0</th>\n",
       "      <td>Trump sued over purge at NLRB, regulator targe...</td>\n",
       "      <td>2025-02-05</td>\n",
       "      <td>@CNBC</td>\n",
       "      <td>amazon</td>\n",
       "    </tr>\n",
       "    <tr>\n",
       "      <th>1</th>\n",
       "      <td>Amazon announces hardware event for Feb. 26 as...</td>\n",
       "      <td>2025-02-05</td>\n",
       "      <td>@CNBC</td>\n",
       "      <td>amazon</td>\n",
       "    </tr>\n",
       "    <tr>\n",
       "      <th>2</th>\n",
       "      <td>Amazon to face legal action after Quebec wareh...</td>\n",
       "      <td>2025-02-04</td>\n",
       "      <td>@CNBC</td>\n",
       "      <td>amazon</td>\n",
       "    </tr>\n",
       "    <tr>\n",
       "      <th>3</th>\n",
       "      <td>Here are Monday's biggest analyst calls: Nvidi...</td>\n",
       "      <td>2025-02-03</td>\n",
       "      <td>@CNBC</td>\n",
       "      <td>amazon</td>\n",
       "    </tr>\n",
       "    <tr>\n",
       "      <th>4</th>\n",
       "      <td>Earnings playbook: Your guide to the busiest w...</td>\n",
       "      <td>2025-02-02</td>\n",
       "      <td>@CNBC</td>\n",
       "      <td>amazon</td>\n",
       "    </tr>\n",
       "    <tr>\n",
       "      <th>...</th>\n",
       "      <td>...</td>\n",
       "      <td>...</td>\n",
       "      <td>...</td>\n",
       "      <td>...</td>\n",
       "    </tr>\n",
       "    <tr>\n",
       "      <th>579</th>\n",
       "      <td>RT Congrats to America! A sexual assaulter, dr...</td>\n",
       "      <td>2025-01-25</td>\n",
       "      <td>@TradingGuru</td>\n",
       "      <td>netflix</td>\n",
       "    </tr>\n",
       "    <tr>\n",
       "      <th>580</th>\n",
       "      <td>$NFLX $AAPL $GM - Notable analyst calls this w...</td>\n",
       "      <td>2025-01-25</td>\n",
       "      <td>@MarketCurrents</td>\n",
       "      <td>netflix</td>\n",
       "    </tr>\n",
       "    <tr>\n",
       "      <th>581</th>\n",
       "      <td>Can I be player 230</td>\n",
       "      <td>2025-01-30</td>\n",
       "      <td>@StockMKTNewz</td>\n",
       "      <td>netflix</td>\n",
       "    </tr>\n",
       "    <tr>\n",
       "      <th>582</th>\n",
       "      <td>Netflix $NFLX just confirmed the final season ...</td>\n",
       "      <td>2025-01-30</td>\n",
       "      <td>@StockMKTNewz</td>\n",
       "      <td>netflix</td>\n",
       "    </tr>\n",
       "    <tr>\n",
       "      <th>583</th>\n",
       "      <td>UK  CONSIDERS MAKING NETFLIX $NFLX USERS PAY L...</td>\n",
       "      <td>2025-01-28</td>\n",
       "      <td>@StockMKTNewz</td>\n",
       "      <td>netflix</td>\n",
       "    </tr>\n",
       "  </tbody>\n",
       "</table>\n",
       "<p>1644 rows × 4 columns</p>\n",
       "</div>"
      ],
      "text/plain": [
       "                                                 tweet        date  \\\n",
       "0    Trump sued over purge at NLRB, regulator targe...  2025-02-05   \n",
       "1    Amazon announces hardware event for Feb. 26 as...  2025-02-05   \n",
       "2    Amazon to face legal action after Quebec wareh...  2025-02-04   \n",
       "3    Here are Monday's biggest analyst calls: Nvidi...  2025-02-03   \n",
       "4    Earnings playbook: Your guide to the busiest w...  2025-02-02   \n",
       "..                                                 ...         ...   \n",
       "579  RT Congrats to America! A sexual assaulter, dr...  2025-01-25   \n",
       "580  $NFLX $AAPL $GM - Notable analyst calls this w...  2025-01-25   \n",
       "581                                Can I be player 230  2025-01-30   \n",
       "582  Netflix $NFLX just confirmed the final season ...  2025-01-30   \n",
       "583  UK  CONSIDERS MAKING NETFLIX $NFLX USERS PAY L...  2025-01-28   \n",
       "\n",
       "             account    stock  \n",
       "0              @CNBC   amazon  \n",
       "1              @CNBC   amazon  \n",
       "2              @CNBC   amazon  \n",
       "3              @CNBC   amazon  \n",
       "4              @CNBC   amazon  \n",
       "..               ...      ...  \n",
       "579     @TradingGuru  netflix  \n",
       "580  @MarketCurrents  netflix  \n",
       "581    @StockMKTNewz  netflix  \n",
       "582    @StockMKTNewz  netflix  \n",
       "583    @StockMKTNewz  netflix  \n",
       "\n",
       "[1644 rows x 4 columns]"
      ]
     },
     "execution_count": 137,
     "metadata": {},
     "output_type": "execute_result"
    }
   ],
   "source": [
    "# Combining both dataframes into one with adding a column of netflix / amzn\n",
    "amazon_df[\"stock\"] = \"amazon\"\n",
    "netflix_df[\"stock\"] = \"netflix\"\n",
    "tweet_df = pd.concat([amazon_df, netflix_df])\n",
    "tweet_df[\"date\"] = pd.to_datetime(tweet_df[\"date\"]).dt.date\n",
    "tweet_df = tweet_df[tweet_df[\"tweet\"] != \"No tweets found\"]  # dropping\n",
    "tweet_df"
   ]
  },
  {
   "cell_type": "code",
   "execution_count": 138,
   "id": "1653b13d",
   "metadata": {
    "lines_to_next_cell": 2,
    "scrolled": true
   },
   "outputs": [
    {
     "name": "stderr",
     "output_type": "stream",
     "text": [
      "[nltk_data] Downloading package punkt to /home/ilse/nltk_data...\n",
      "[nltk_data]   Package punkt is already up-to-date!\n",
      "[nltk_data] Downloading package wordnet to /home/ilse/nltk_data...\n",
      "[nltk_data]   Package wordnet is already up-to-date!\n"
     ]
    },
    {
     "data": {
      "text/html": [
       "<div>\n",
       "<style scoped>\n",
       "    .dataframe tbody tr th:only-of-type {\n",
       "        vertical-align: middle;\n",
       "    }\n",
       "\n",
       "    .dataframe tbody tr th {\n",
       "        vertical-align: top;\n",
       "    }\n",
       "\n",
       "    .dataframe thead th {\n",
       "        text-align: right;\n",
       "    }\n",
       "</style>\n",
       "<table border=\"1\" class=\"dataframe\">\n",
       "  <thead>\n",
       "    <tr style=\"text-align: right;\">\n",
       "      <th></th>\n",
       "      <th>tweet</th>\n",
       "      <th>date</th>\n",
       "      <th>account</th>\n",
       "      <th>stock</th>\n",
       "      <th>processed_tweet</th>\n",
       "    </tr>\n",
       "  </thead>\n",
       "  <tbody>\n",
       "    <tr>\n",
       "      <th>0</th>\n",
       "      <td>Trump sued over purge at NLRB, regulator targe...</td>\n",
       "      <td>2025-02-05</td>\n",
       "      <td>@CNBC</td>\n",
       "      <td>amazon</td>\n",
       "      <td>trump sued purge nlrb regulator targeted space...</td>\n",
       "    </tr>\n",
       "    <tr>\n",
       "      <th>1</th>\n",
       "      <td>Amazon announces hardware event for Feb. 26 as...</td>\n",
       "      <td>2025-02-05</td>\n",
       "      <td>@CNBC</td>\n",
       "      <td>amazon</td>\n",
       "      <td>amazon announces hardware event feb race relea...</td>\n",
       "    </tr>\n",
       "    <tr>\n",
       "      <th>2</th>\n",
       "      <td>Amazon to face legal action after Quebec wareh...</td>\n",
       "      <td>2025-02-04</td>\n",
       "      <td>@CNBC</td>\n",
       "      <td>amazon</td>\n",
       "      <td>amazon face legal action quebec warehouse clos...</td>\n",
       "    </tr>\n",
       "    <tr>\n",
       "      <th>3</th>\n",
       "      <td>Here are Monday's biggest analyst calls: Nvidi...</td>\n",
       "      <td>2025-02-03</td>\n",
       "      <td>@CNBC</td>\n",
       "      <td>amazon</td>\n",
       "      <td>monday biggest analyst call nvidia apple tesla...</td>\n",
       "    </tr>\n",
       "    <tr>\n",
       "      <th>4</th>\n",
       "      <td>Earnings playbook: Your guide to the busiest w...</td>\n",
       "      <td>2025-02-02</td>\n",
       "      <td>@CNBC</td>\n",
       "      <td>amazon</td>\n",
       "      <td>earnings playbook guide busiest week season in...</td>\n",
       "    </tr>\n",
       "  </tbody>\n",
       "</table>\n",
       "</div>"
      ],
      "text/plain": [
       "                                               tweet        date account  \\\n",
       "0  Trump sued over purge at NLRB, regulator targe...  2025-02-05   @CNBC   \n",
       "1  Amazon announces hardware event for Feb. 26 as...  2025-02-05   @CNBC   \n",
       "2  Amazon to face legal action after Quebec wareh...  2025-02-04   @CNBC   \n",
       "3  Here are Monday's biggest analyst calls: Nvidi...  2025-02-03   @CNBC   \n",
       "4  Earnings playbook: Your guide to the busiest w...  2025-02-02   @CNBC   \n",
       "\n",
       "    stock                                    processed_tweet  \n",
       "0  amazon  trump sued purge nlrb regulator targeted space...  \n",
       "1  amazon  amazon announces hardware event feb race relea...  \n",
       "2  amazon  amazon face legal action quebec warehouse clos...  \n",
       "3  amazon  monday biggest analyst call nvidia apple tesla...  \n",
       "4  amazon  earnings playbook guide busiest week season in...  "
      ]
     },
     "execution_count": 138,
     "metadata": {},
     "output_type": "execute_result"
    }
   ],
   "source": [
    "# Download NLTK resources\n",
    "nltk.download(\"punkt\")\n",
    "nltk.download(\"wordnet\")\n",
    "\n",
    "lemmatizer = WordNetLemmatizer()\n",
    "\n",
    "# Define financial stopwords that should NOT be removed\n",
    "financial_stopwords = {\n",
    "    \"up\",\n",
    "    \"down\",\n",
    "    \"bullish\",\n",
    "    \"bearish\",\n",
    "    \"profit\",\n",
    "    \"loss\",\n",
    "    \"growth\",\n",
    "    \"decline\",\n",
    "}\n",
    "\n",
    "\n",
    "def preprocess_pipeline(tweet):\n",
    "    # Remove URLs, mentions, hashtags, emojis, and reserved words\n",
    "    tweet = p.clean(str(tweet))\n",
    "\n",
    "    # Remove stock symbols ($NFLX, $AMZN)\n",
    "    tweet = re.sub(r\"[$]+[a-zA-Z]+\", \"\", tweet)\n",
    "\n",
    "    # Remove punctuation & numbers\n",
    "    tweet = re.sub(r\"[^a-zA-Z\\s]\", \"\", tweet)\n",
    "\n",
    "    # Normalize text (reduce lengthening)\n",
    "    pattern = re.compile(r\"(.)\\1{2,}\")\n",
    "    tweet = pattern.sub(r\"\\1\\1\", tweet)\n",
    "\n",
    "    # Convert to lowercase\n",
    "    tweet = tweet.lower()\n",
    "\n",
    "    # Tokenization & Stopword Removal (EXCLUDING financial stopwords)\n",
    "    tokens = word_tokenize(tweet)\n",
    "    stop_words = stopwords.words(\"english\")\n",
    "    tokens = [\n",
    "        lemmatizer.lemmatize(word)\n",
    "        for word in tokens\n",
    "        if word not in stop_words or word in financial_stopwords\n",
    "    ]\n",
    "\n",
    "    return \" \".join(tokens)  # Convert back to string\n",
    "\n",
    "\n",
    "# Apply pipeline to all tweets\n",
    "tweet_df[\"processed_tweet\"] = tweet_df[\"tweet\"].apply(preprocess_pipeline)\n",
    "\n",
    "tweet_df.head()"
   ]
  },
  {
   "cell_type": "code",
   "execution_count": 139,
   "id": "f99af402",
   "metadata": {},
   "outputs": [
    {
     "data": {
      "image/png": "[encoded data removed]",
      "text/plain": [
       "<Figure size 1500x700 with 2 Axes>"
      ]
     },
     "metadata": {},
     "output_type": "display_data"
    }
   ],
   "source": [
    "# Filter tweets for Amazon and Netflix separately\n",
    "amazon_tweets = \" \".join(\n",
    "    tweet_df[tweet_df[\"stock\"] == \"amazon\"][\"processed_tweet\"]\n",
    ")\n",
    "netflix_tweets = \" \".join(\n",
    "    tweet_df[tweet_df[\"stock\"] == \"netflix\"][\"processed_tweet\"]\n",
    ")\n",
    "\n",
    "# Generate word clouds\n",
    "amazon_wordcloud = WordCloud(\n",
    "    background_color=\"white\", width=800, height=400\n",
    ").generate(amazon_tweets)\n",
    "\n",
    "netflix_wordcloud = WordCloud(\n",
    "    background_color=\"white\", width=800, height=400\n",
    ").generate(netflix_tweets)\n",
    "\n",
    "# Display word clouds side by side\n",
    "fig, ax = plt.subplots(1, 2, figsize=(15, 7))\n",
    "\n",
    "ax[0].imshow(amazon_wordcloud, interpolation=\"bilinear\")\n",
    "ax[0].set_title(\"Amazon Word Cloud\", fontsize=18)\n",
    "ax[0].axis(\"off\")\n",
    "\n",
    "ax[1].imshow(netflix_wordcloud, interpolation=\"bilinear\")\n",
    "ax[1].set_title(\"Netflix Word Cloud\", fontsize=18)\n",
    "ax[1].axis(\"off\")\n",
    "\n",
    "plt.show()"
   ]
  },
  {
   "cell_type": "markdown",
   "id": "0df8d77b",
   "metadata": {},
   "source": [
    "# **VADER - Sentiment Analysis**"
   ]
  },
  {
   "cell_type": "code",
   "execution_count": 140,
   "id": "2a5c4278",
   "metadata": {
    "lines_to_next_cell": 2
   },
   "outputs": [
    {
     "data": {
      "text/html": [
       "<div>\n",
       "<style scoped>\n",
       "    .dataframe tbody tr th:only-of-type {\n",
       "        vertical-align: middle;\n",
       "    }\n",
       "\n",
       "    .dataframe tbody tr th {\n",
       "        vertical-align: top;\n",
       "    }\n",
       "\n",
       "    .dataframe thead th {\n",
       "        text-align: right;\n",
       "    }\n",
       "</style>\n",
       "<table border=\"1\" class=\"dataframe\">\n",
       "  <thead>\n",
       "    <tr style=\"text-align: right;\">\n",
       "      <th></th>\n",
       "      <th>tweet</th>\n",
       "      <th>date</th>\n",
       "      <th>account</th>\n",
       "      <th>stock</th>\n",
       "      <th>processed_tweet</th>\n",
       "      <th>neg</th>\n",
       "      <th>neu</th>\n",
       "      <th>pos</th>\n",
       "      <th>compound</th>\n",
       "    </tr>\n",
       "  </thead>\n",
       "  <tbody>\n",
       "    <tr>\n",
       "      <th>0</th>\n",
       "      <td>Trump sued over purge at NLRB, regulator targe...</td>\n",
       "      <td>2025-02-05</td>\n",
       "      <td>@CNBC</td>\n",
       "      <td>amazon</td>\n",
       "      <td>trump sued purge nlrb regulator targeted space...</td>\n",
       "      <td>0.0</td>\n",
       "      <td>0.825</td>\n",
       "      <td>0.175</td>\n",
       "      <td>0.1779</td>\n",
       "    </tr>\n",
       "    <tr>\n",
       "      <th>1</th>\n",
       "      <td>Amazon announces hardware event for Feb. 26 as...</td>\n",
       "      <td>2025-02-05</td>\n",
       "      <td>@CNBC</td>\n",
       "      <td>amazon</td>\n",
       "      <td>amazon announces hardware event feb race relea...</td>\n",
       "      <td>0.0</td>\n",
       "      <td>0.825</td>\n",
       "      <td>0.175</td>\n",
       "      <td>0.1779</td>\n",
       "    </tr>\n",
       "    <tr>\n",
       "      <th>2</th>\n",
       "      <td>Amazon to face legal action after Quebec wareh...</td>\n",
       "      <td>2025-02-04</td>\n",
       "      <td>@CNBC</td>\n",
       "      <td>amazon</td>\n",
       "      <td>amazon face legal action quebec warehouse clos...</td>\n",
       "      <td>0.0</td>\n",
       "      <td>0.714</td>\n",
       "      <td>0.286</td>\n",
       "      <td>0.2960</td>\n",
       "    </tr>\n",
       "    <tr>\n",
       "      <th>3</th>\n",
       "      <td>Here are Monday's biggest analyst calls: Nvidi...</td>\n",
       "      <td>2025-02-03</td>\n",
       "      <td>@CNBC</td>\n",
       "      <td>amazon</td>\n",
       "      <td>monday biggest analyst call nvidia apple tesla...</td>\n",
       "      <td>0.0</td>\n",
       "      <td>0.848</td>\n",
       "      <td>0.152</td>\n",
       "      <td>0.2449</td>\n",
       "    </tr>\n",
       "    <tr>\n",
       "      <th>4</th>\n",
       "      <td>Earnings playbook: Your guide to the busiest w...</td>\n",
       "      <td>2025-02-02</td>\n",
       "      <td>@CNBC</td>\n",
       "      <td>amazon</td>\n",
       "      <td>earnings playbook guide busiest week season in...</td>\n",
       "      <td>0.0</td>\n",
       "      <td>0.841</td>\n",
       "      <td>0.159</td>\n",
       "      <td>0.1779</td>\n",
       "    </tr>\n",
       "  </tbody>\n",
       "</table>\n",
       "</div>"
      ],
      "text/plain": [
       "                                               tweet        date account  \\\n",
       "0  Trump sued over purge at NLRB, regulator targe...  2025-02-05   @CNBC   \n",
       "1  Amazon announces hardware event for Feb. 26 as...  2025-02-05   @CNBC   \n",
       "2  Amazon to face legal action after Quebec wareh...  2025-02-04   @CNBC   \n",
       "3  Here are Monday's biggest analyst calls: Nvidi...  2025-02-03   @CNBC   \n",
       "4  Earnings playbook: Your guide to the busiest w...  2025-02-02   @CNBC   \n",
       "\n",
       "    stock                                    processed_tweet  neg    neu  \\\n",
       "0  amazon  trump sued purge nlrb regulator targeted space...  0.0  0.825   \n",
       "1  amazon  amazon announces hardware event feb race relea...  0.0  0.825   \n",
       "2  amazon  amazon face legal action quebec warehouse clos...  0.0  0.714   \n",
       "3  amazon  monday biggest analyst call nvidia apple tesla...  0.0  0.848   \n",
       "4  amazon  earnings playbook guide busiest week season in...  0.0  0.841   \n",
       "\n",
       "     pos  compound  \n",
       "0  0.175    0.1779  \n",
       "1  0.175    0.1779  \n",
       "2  0.286    0.2960  \n",
       "3  0.152    0.2449  \n",
       "4  0.159    0.1779  "
      ]
     },
     "execution_count": 140,
     "metadata": {},
     "output_type": "execute_result"
    },
    {
     "name": "stderr",
     "output_type": "stream",
     "text": [
      "14:80: E501 line too long (81 > 79 characters)\n"
     ]
    }
   ],
   "source": [
    "analyser = SentimentIntensityAnalyzer()\n",
    "\n",
    "\n",
    "# Initialize Sentiment Intensity Analyzer\n",
    "analyser = SentimentIntensityAnalyzer()\n",
    "\n",
    "\n",
    "def get_sentiment_scores(text):\n",
    "    \"\"\"\n",
    "    Computes sentiment scores using VaderSentiment.\n",
    "    Args:\n",
    "        text (str): The processed tweet text.\n",
    "    Returns:\n",
    "        pd.Series: A pandas Series containing neg, neu, pos, and compound scores.\n",
    "    \"\"\"\n",
    "    scores = analyser.polarity_scores(text)\n",
    "    return pd.Series(\n",
    "        [scores[\"neg\"], scores[\"neu\"], scores[\"pos\"], scores[\"compound\"]],\n",
    "        index=[\"neg\", \"neu\", \"pos\", \"compound\"],\n",
    "    )\n",
    "\n",
    "\n",
    "tweet_df[[\"neg\", \"neu\", \"pos\", \"compound\"]] = (\n",
    "    tweet_df[\"processed_tweet\"].apply(get_sentiment_scores)\n",
    ")\n",
    "\n",
    "# Display sample results\n",
    "tweet_df.head()"
   ]
  },
  {
   "cell_type": "code",
   "execution_count": 141,
   "id": "a7ad728e",
   "metadata": {
    "lines_to_next_cell": 2
   },
   "outputs": [
    {
     "data": {
      "text/html": [
       "<div>\n",
       "<style scoped>\n",
       "    .dataframe tbody tr th:only-of-type {\n",
       "        vertical-align: middle;\n",
       "    }\n",
       "\n",
       "    .dataframe tbody tr th {\n",
       "        vertical-align: top;\n",
       "    }\n",
       "\n",
       "    .dataframe thead th {\n",
       "        text-align: right;\n",
       "    }\n",
       "</style>\n",
       "<table border=\"1\" class=\"dataframe\">\n",
       "  <thead>\n",
       "    <tr style=\"text-align: right;\">\n",
       "      <th></th>\n",
       "      <th>tweet</th>\n",
       "      <th>date</th>\n",
       "      <th>account</th>\n",
       "      <th>stock</th>\n",
       "      <th>processed_tweet</th>\n",
       "      <th>neg</th>\n",
       "      <th>neu</th>\n",
       "      <th>pos</th>\n",
       "      <th>compound</th>\n",
       "      <th>class_VADER</th>\n",
       "    </tr>\n",
       "  </thead>\n",
       "  <tbody>\n",
       "    <tr>\n",
       "      <th>0</th>\n",
       "      <td>Trump sued over purge at NLRB, regulator targe...</td>\n",
       "      <td>2025-02-05</td>\n",
       "      <td>@CNBC</td>\n",
       "      <td>amazon</td>\n",
       "      <td>trump sued purge nlrb regulator targeted space...</td>\n",
       "      <td>0.000</td>\n",
       "      <td>0.825</td>\n",
       "      <td>0.175</td>\n",
       "      <td>0.1779</td>\n",
       "      <td>Positive_VADER</td>\n",
       "    </tr>\n",
       "    <tr>\n",
       "      <th>1</th>\n",
       "      <td>Amazon announces hardware event for Feb. 26 as...</td>\n",
       "      <td>2025-02-05</td>\n",
       "      <td>@CNBC</td>\n",
       "      <td>amazon</td>\n",
       "      <td>amazon announces hardware event feb race relea...</td>\n",
       "      <td>0.000</td>\n",
       "      <td>0.825</td>\n",
       "      <td>0.175</td>\n",
       "      <td>0.1779</td>\n",
       "      <td>Positive_VADER</td>\n",
       "    </tr>\n",
       "    <tr>\n",
       "      <th>2</th>\n",
       "      <td>Amazon to face legal action after Quebec wareh...</td>\n",
       "      <td>2025-02-04</td>\n",
       "      <td>@CNBC</td>\n",
       "      <td>amazon</td>\n",
       "      <td>amazon face legal action quebec warehouse clos...</td>\n",
       "      <td>0.000</td>\n",
       "      <td>0.714</td>\n",
       "      <td>0.286</td>\n",
       "      <td>0.2960</td>\n",
       "      <td>Positive_VADER</td>\n",
       "    </tr>\n",
       "    <tr>\n",
       "      <th>3</th>\n",
       "      <td>Here are Monday's biggest analyst calls: Nvidi...</td>\n",
       "      <td>2025-02-03</td>\n",
       "      <td>@CNBC</td>\n",
       "      <td>amazon</td>\n",
       "      <td>monday biggest analyst call nvidia apple tesla...</td>\n",
       "      <td>0.000</td>\n",
       "      <td>0.848</td>\n",
       "      <td>0.152</td>\n",
       "      <td>0.2449</td>\n",
       "      <td>Positive_VADER</td>\n",
       "    </tr>\n",
       "    <tr>\n",
       "      <th>4</th>\n",
       "      <td>Earnings playbook: Your guide to the busiest w...</td>\n",
       "      <td>2025-02-02</td>\n",
       "      <td>@CNBC</td>\n",
       "      <td>amazon</td>\n",
       "      <td>earnings playbook guide busiest week season in...</td>\n",
       "      <td>0.000</td>\n",
       "      <td>0.841</td>\n",
       "      <td>0.159</td>\n",
       "      <td>0.1779</td>\n",
       "      <td>Positive_VADER</td>\n",
       "    </tr>\n",
       "    <tr>\n",
       "      <th>...</th>\n",
       "      <td>...</td>\n",
       "      <td>...</td>\n",
       "      <td>...</td>\n",
       "      <td>...</td>\n",
       "      <td>...</td>\n",
       "      <td>...</td>\n",
       "      <td>...</td>\n",
       "      <td>...</td>\n",
       "      <td>...</td>\n",
       "      <td>...</td>\n",
       "    </tr>\n",
       "    <tr>\n",
       "      <th>579</th>\n",
       "      <td>RT Congrats to America! A sexual assaulter, dr...</td>\n",
       "      <td>2025-01-25</td>\n",
       "      <td>@TradingGuru</td>\n",
       "      <td>netflix</td>\n",
       "      <td>congrats america sexual assaulter drunkard swi...</td>\n",
       "      <td>0.000</td>\n",
       "      <td>0.710</td>\n",
       "      <td>0.290</td>\n",
       "      <td>0.5994</td>\n",
       "      <td>Positive_VADER</td>\n",
       "    </tr>\n",
       "    <tr>\n",
       "      <th>580</th>\n",
       "      <td>$NFLX $AAPL $GM - Notable analyst calls this w...</td>\n",
       "      <td>2025-01-25</td>\n",
       "      <td>@MarketCurrents</td>\n",
       "      <td>netflix</td>\n",
       "      <td>notable analyst call week apple ea netflix sto...</td>\n",
       "      <td>0.000</td>\n",
       "      <td>0.847</td>\n",
       "      <td>0.153</td>\n",
       "      <td>0.2023</td>\n",
       "      <td>Positive_VADER</td>\n",
       "    </tr>\n",
       "    <tr>\n",
       "      <th>581</th>\n",
       "      <td>Can I be player 230</td>\n",
       "      <td>2025-01-30</td>\n",
       "      <td>@StockMKTNewz</td>\n",
       "      <td>netflix</td>\n",
       "      <td>player</td>\n",
       "      <td>0.000</td>\n",
       "      <td>1.000</td>\n",
       "      <td>0.000</td>\n",
       "      <td>0.0000</td>\n",
       "      <td>Neutral_VADER</td>\n",
       "    </tr>\n",
       "    <tr>\n",
       "      <th>582</th>\n",
       "      <td>Netflix $NFLX just confirmed the final season ...</td>\n",
       "      <td>2025-01-30</td>\n",
       "      <td>@StockMKTNewz</td>\n",
       "      <td>netflix</td>\n",
       "      <td>netflix confirmed final season squid game rele...</td>\n",
       "      <td>0.000</td>\n",
       "      <td>1.000</td>\n",
       "      <td>0.000</td>\n",
       "      <td>0.0000</td>\n",
       "      <td>Neutral_VADER</td>\n",
       "    </tr>\n",
       "    <tr>\n",
       "      <th>583</th>\n",
       "      <td>UK  CONSIDERS MAKING NETFLIX $NFLX USERS PAY L...</td>\n",
       "      <td>2025-01-28</td>\n",
       "      <td>@StockMKTNewz</td>\n",
       "      <td>netflix</td>\n",
       "      <td>uk considers making netflix user pay license f...</td>\n",
       "      <td>0.123</td>\n",
       "      <td>0.877</td>\n",
       "      <td>0.000</td>\n",
       "      <td>-0.1027</td>\n",
       "      <td>Negative_VADER</td>\n",
       "    </tr>\n",
       "  </tbody>\n",
       "</table>\n",
       "<p>1644 rows × 10 columns</p>\n",
       "</div>"
      ],
      "text/plain": [
       "                                                 tweet        date  \\\n",
       "0    Trump sued over purge at NLRB, regulator targe...  2025-02-05   \n",
       "1    Amazon announces hardware event for Feb. 26 as...  2025-02-05   \n",
       "2    Amazon to face legal action after Quebec wareh...  2025-02-04   \n",
       "3    Here are Monday's biggest analyst calls: Nvidi...  2025-02-03   \n",
       "4    Earnings playbook: Your guide to the busiest w...  2025-02-02   \n",
       "..                                                 ...         ...   \n",
       "579  RT Congrats to America! A sexual assaulter, dr...  2025-01-25   \n",
       "580  $NFLX $AAPL $GM - Notable analyst calls this w...  2025-01-25   \n",
       "581                                Can I be player 230  2025-01-30   \n",
       "582  Netflix $NFLX just confirmed the final season ...  2025-01-30   \n",
       "583  UK  CONSIDERS MAKING NETFLIX $NFLX USERS PAY L...  2025-01-28   \n",
       "\n",
       "             account    stock  \\\n",
       "0              @CNBC   amazon   \n",
       "1              @CNBC   amazon   \n",
       "2              @CNBC   amazon   \n",
       "3              @CNBC   amazon   \n",
       "4              @CNBC   amazon   \n",
       "..               ...      ...   \n",
       "579     @TradingGuru  netflix   \n",
       "580  @MarketCurrents  netflix   \n",
       "581    @StockMKTNewz  netflix   \n",
       "582    @StockMKTNewz  netflix   \n",
       "583    @StockMKTNewz  netflix   \n",
       "\n",
       "                                       processed_tweet    neg    neu    pos  \\\n",
       "0    trump sued purge nlrb regulator targeted space...  0.000  0.825  0.175   \n",
       "1    amazon announces hardware event feb race relea...  0.000  0.825  0.175   \n",
       "2    amazon face legal action quebec warehouse clos...  0.000  0.714  0.286   \n",
       "3    monday biggest analyst call nvidia apple tesla...  0.000  0.848  0.152   \n",
       "4    earnings playbook guide busiest week season in...  0.000  0.841  0.159   \n",
       "..                                                 ...    ...    ...    ...   \n",
       "579  congrats america sexual assaulter drunkard swi...  0.000  0.710  0.290   \n",
       "580  notable analyst call week apple ea netflix sto...  0.000  0.847  0.153   \n",
       "581                                             player  0.000  1.000  0.000   \n",
       "582  netflix confirmed final season squid game rele...  0.000  1.000  0.000   \n",
       "583  uk considers making netflix user pay license f...  0.123  0.877  0.000   \n",
       "\n",
       "     compound     class_VADER  \n",
       "0      0.1779  Positive_VADER  \n",
       "1      0.1779  Positive_VADER  \n",
       "2      0.2960  Positive_VADER  \n",
       "3      0.2449  Positive_VADER  \n",
       "4      0.1779  Positive_VADER  \n",
       "..        ...             ...  \n",
       "579    0.5994  Positive_VADER  \n",
       "580    0.2023  Positive_VADER  \n",
       "581    0.0000   Neutral_VADER  \n",
       "582    0.0000   Neutral_VADER  \n",
       "583   -0.1027  Negative_VADER  \n",
       "\n",
       "[1644 rows x 10 columns]"
      ]
     },
     "execution_count": 141,
     "metadata": {},
     "output_type": "execute_result"
    },
    {
     "name": "stderr",
     "output_type": "stream",
     "text": [
      "10:80: E501 line too long (85 > 79 characters)\n"
     ]
    }
   ],
   "source": [
    "# Defining classes\n",
    "def analyse_sentiment(compound):\n",
    "    \"\"\"\n",
    "    Classifies sentiment based on the compound score from Vader.\n",
    "\n",
    "    Args:\n",
    "        compound (float): The compound sentiment score (ranges from -1 to 1).\n",
    "\n",
    "    Returns:\n",
    "        str: A sentiment label ('Positive_VADER', 'Neutral_VADER', 'Negative_VADER').\n",
    "    \"\"\"\n",
    "    if compound > 0:\n",
    "        return \"Positive_VADER\"\n",
    "    if compound == 0:\n",
    "        return \"Neutral_VADER\"\n",
    "    return \"Negative_VADER\"  # Simplified: No need for `if compound < 0`\n",
    "\n",
    "\n",
    "# Apply the funtion on Polarity column and add the results into a new column\n",
    "tweet_df[\"class_VADER\"] = tweet_df[\"compound\"].apply(analyse_sentiment)\n",
    "\n",
    "print(tweet_df.shape)\n",
    "tweet_df"
   ]
  },
  {
   "cell_type": "code",
   "execution_count": 142,
   "id": "5a6c3a8a",
   "metadata": {
    "lines_to_next_cell": 2
   },
   "outputs": [],
   "source": [
    "# Sorting values by date\n",
    "tweet_df = tweet_df.sort_values(by=\"date\", ascending=True)"
   ]
  },
  {
   "cell_type": "code",
   "execution_count": 143,
   "id": "0eb0b8ec",
   "metadata": {
    "lines_to_next_cell": 2
   },
   "outputs": [
    {
     "name": "stderr",
     "output_type": "stream",
     "text": [
      "16:80: E501 line too long (83 > 79 characters)\n"
     ]
    }
   ],
   "source": [
    "# Generate dummy variables for class_VADER\n",
    "dummies_VADER = pd.get_dummies(tweet_df[\"class_VADER\"])\n",
    "tweet_df = pd.concat([tweet_df, dummies_VADER], axis=1)\n",
    "\n",
    "# Ensure all expected columns exist before grouping\n",
    "expected_cols = [\"Negative_VADER\", \"Neutral_VADER\", \"Positive_VADER\"]\n",
    "for col in expected_cols:\n",
    "    if col not in tweet_df.columns:\n",
    "        tweet_df[col] = 0  # Add missing column with default value\n",
    "\n",
    "# Group by date to sum counts per day\n",
    "nrclass_VADER = (\n",
    "    tweet_df.groupby([\"stock\", \"date\"])[expected_cols].sum().reset_index()\n",
    ")\n",
    "\n",
    "# Shift values forward by one day **one column at a time** to avoid length mismatch\n",
    "for col in expected_cols:\n",
    "    nrclass_VADER[col] = nrclass_VADER[col].shift(1)\n",
    "\n",
    "tweet_sentiment_df = nrclass_VADER"
   ]
  },
  {
   "cell_type": "code",
   "execution_count": 144,
   "id": "10949d08",
   "metadata": {
    "lines_to_next_cell": 2
   },
   "outputs": [
    {
     "data": {
      "text/plain": [
       "stock             0\n",
       "date              0\n",
       "Negative_VADER    1\n",
       "Neutral_VADER     1\n",
       "Positive_VADER    1\n",
       "dtype: int64"
      ]
     },
     "execution_count": 144,
     "metadata": {},
     "output_type": "execute_result"
    }
   ],
   "source": [
    "# DOUBLE CHECK if we have any NaN in the sentiment\n",
    "tweet_sentiment_df.isna().sum()"
   ]
  },
  {
   "cell_type": "code",
   "execution_count": 105,
   "id": "5cd10a78",
   "metadata": {},
   "outputs": [],
   "source": [
    "# Store the Data after Sentiment Analysis\n",
    "tweet_sentiment_df.to_csv(\"tweet_sentiment_df.csv\")"
   ]
  },
  {
   "cell_type": "code",
   "execution_count": 145,
   "id": "3c44ce2e",
   "metadata": {},
   "outputs": [
    {
     "data": {
      "application/vnd.plotly.v1+json": {
       "config": {
        "plotlyServerURL": "https://plot.ly"
       },
       "data": [
        {
         "name": "Neutral",
         "type": "bar",
         "x": [
          "amazon",
          "netflix"
         ],
         "y": [
          91,
          207
         ]
        },
        {
         "name": "Negative",
         "type": "bar",
         "x": [
          "amazon",
          "netflix"
         ],
         "y": [
          206,
          132
         ]
        },
        {
         "name": "Positive",
         "type": "bar",
         "x": [
          "amazon",
          "netflix"
         ],
         "y": [
          761,
          245
         ]
        }
       ],
       "layout": {
        "barmode": "group",
        "plot_bgcolor": "white",
        "template": {
         "data": {
          "bar": [
           {
            "error_x": {
             "color": "#2a3f5f"
            },
            "error_y": {
             "color": "#2a3f5f"
            },
            "marker": {
             "line": {
              "color": "#E5ECF6",
              "width": 0.5
             },
             "pattern": {
              "fillmode": "overlay",
              "size": 10,
              "solidity": 0.2
             }
            },
            "type": "bar"
           }
          ],
          "barpolar": [
           {
            "marker": {
             "line": {
              "color": "#E5ECF6",
              "width": 0.5
             },
             "pattern": {
              "fillmode": "overlay",
              "size": 10,
              "solidity": 0.2
             }
            },
            "type": "barpolar"
           }
          ],
          "carpet": [
           {
            "aaxis": {
             "endlinecolor": "#2a3f5f",
             "gridcolor": "white",
             "linecolor": "white",
             "minorgridcolor": "white",
             "startlinecolor": "#2a3f5f"
            },
            "baxis": {
             "endlinecolor": "#2a3f5f",
             "gridcolor": "white",
             "linecolor": "white",
             "minorgridcolor": "white",
             "startlinecolor": "#2a3f5f"
            },
            "type": "carpet"
           }
          ],
          "choropleth": [
           {
            "colorbar": {
             "outlinewidth": 0,
             "ticks": ""
            },
            "type": "choropleth"
           }
          ],
          "contour": [
           {
            "colorbar": {
             "outlinewidth": 0,
             "ticks": ""
            },
            "colorscale": [
             [
              0,
              "#0d0887"
             ],
             [
              0.1111111111111111,
              "#46039f"
             ],
             [
              0.2222222222222222,
              "#7201a8"
             ],
             [
              0.3333333333333333,
              "#9c179e"
             ],
             [
              0.4444444444444444,
              "#bd3786"
             ],
             [
              0.5555555555555556,
              "#d8576b"
             ],
             [
              0.6666666666666666,
              "#ed7953"
             ],
             [
              0.7777777777777778,
              "#fb9f3a"
             ],
             [
              0.8888888888888888,
              "#fdca26"
             ],
             [
              1,
              "#f0f921"
             ]
            ],
            "type": "contour"
           }
          ],
          "contourcarpet": [
           {
            "colorbar": {
             "outlinewidth": 0,
             "ticks": ""
            },
            "type": "contourcarpet"
           }
          ],
          "heatmap": [
           {
            "colorbar": {
             "outlinewidth": 0,
             "ticks": ""
            },
            "colorscale": [
             [
              0,
              "#0d0887"
             ],
             [
              0.1111111111111111,
              "#46039f"
             ],
             [
              0.2222222222222222,
              "#7201a8"
             ],
             [
              0.3333333333333333,
              "#9c179e"
             ],
             [
              0.4444444444444444,
              "#bd3786"
             ],
             [
              0.5555555555555556,
              "#d8576b"
             ],
             [
              0.6666666666666666,
              "#ed7953"
             ],
             [
              0.7777777777777778,
              "#fb9f3a"
             ],
             [
              0.8888888888888888,
              "#fdca26"
             ],
             [
              1,
              "#f0f921"
             ]
            ],
            "type": "heatmap"
           }
          ],
          "heatmapgl": [
           {
            "colorbar": {
             "outlinewidth": 0,
             "ticks": ""
            },
            "colorscale": [
             [
              0,
              "#0d0887"
             ],
             [
              0.1111111111111111,
              "#46039f"
             ],
             [
              0.2222222222222222,
              "#7201a8"
             ],
             [
              0.3333333333333333,
              "#9c179e"
             ],
             [
              0.4444444444444444,
              "#bd3786"
             ],
             [
              0.5555555555555556,
              "#d8576b"
             ],
             [
              0.6666666666666666,
              "#ed7953"
             ],
             [
              0.7777777777777778,
              "#fb9f3a"
             ],
             [
              0.8888888888888888,
              "#fdca26"
             ],
             [
              1,
              "#f0f921"
             ]
            ],
            "type": "heatmapgl"
           }
          ],
          "histogram": [
           {
            "marker": {
             "pattern": {
              "fillmode": "overlay",
              "size": 10,
              "solidity": 0.2
             }
            },
            "type": "histogram"
           }
          ],
          "histogram2d": [
           {
            "colorbar": {
             "outlinewidth": 0,
             "ticks": ""
            },
            "colorscale": [
             [
              0,
              "#0d0887"
             ],
             [
              0.1111111111111111,
              "#46039f"
             ],
             [
              0.2222222222222222,
              "#7201a8"
             ],
             [
              0.3333333333333333,
              "#9c179e"
             ],
             [
              0.4444444444444444,
              "#bd3786"
             ],
             [
              0.5555555555555556,
              "#d8576b"
             ],
             [
              0.6666666666666666,
              "#ed7953"
             ],
             [
              0.7777777777777778,
              "#fb9f3a"
             ],
             [
              0.8888888888888888,
              "#fdca26"
             ],
             [
              1,
              "#f0f921"
             ]
            ],
            "type": "histogram2d"
           }
          ],
          "histogram2dcontour": [
           {
            "colorbar": {
             "outlinewidth": 0,
             "ticks": ""
            },
            "colorscale": [
             [
              0,
              "#0d0887"
             ],
             [
              0.1111111111111111,
              "#46039f"
             ],
             [
              0.2222222222222222,
              "#7201a8"
             ],
             [
              0.3333333333333333,
              "#9c179e"
             ],
             [
              0.4444444444444444,
              "#bd3786"
             ],
             [
              0.5555555555555556,
              "#d8576b"
             ],
             [
              0.6666666666666666,
              "#ed7953"
             ],
             [
              0.7777777777777778,
              "#fb9f3a"
             ],
             [
              0.8888888888888888,
              "#fdca26"
             ],
             [
              1,
              "#f0f921"
             ]
            ],
            "type": "histogram2dcontour"
           }
          ],
          "mesh3d": [
           {
            "colorbar": {
             "outlinewidth": 0,
             "ticks": ""
            },
            "type": "mesh3d"
           }
          ],
          "parcoords": [
           {
            "line": {
             "colorbar": {
              "outlinewidth": 0,
              "ticks": ""
             }
            },
            "type": "parcoords"
           }
          ],
          "pie": [
           {
            "automargin": true,
            "type": "pie"
           }
          ],
          "scatter": [
           {
            "fillpattern": {
             "fillmode": "overlay",
             "size": 10,
             "solidity": 0.2
            },
            "type": "scatter"
           }
          ],
          "scatter3d": [
           {
            "line": {
             "colorbar": {
              "outlinewidth": 0,
              "ticks": ""
             }
            },
            "marker": {
             "colorbar": {
              "outlinewidth": 0,
              "ticks": ""
             }
            },
            "type": "scatter3d"
           }
          ],
          "scattercarpet": [
           {
            "marker": {
             "colorbar": {
              "outlinewidth": 0,
              "ticks": ""
             }
            },
            "type": "scattercarpet"
           }
          ],
          "scattergeo": [
           {
            "marker": {
             "colorbar": {
              "outlinewidth": 0,
              "ticks": ""
             }
            },
            "type": "scattergeo"
           }
          ],
          "scattergl": [
           {
            "marker": {
             "colorbar": {
              "outlinewidth": 0,
              "ticks": ""
             }
            },
            "type": "scattergl"
           }
          ],
          "scattermapbox": [
           {
            "marker": {
             "colorbar": {
              "outlinewidth": 0,
              "ticks": ""
             }
            },
            "type": "scattermapbox"
           }
          ],
          "scatterpolar": [
           {
            "marker": {
             "colorbar": {
              "outlinewidth": 0,
              "ticks": ""
             }
            },
            "type": "scatterpolar"
           }
          ],
          "scatterpolargl": [
           {
            "marker": {
             "colorbar": {
              "outlinewidth": 0,
              "ticks": ""
             }
            },
            "type": "scatterpolargl"
           }
          ],
          "scatterternary": [
           {
            "marker": {
             "colorbar": {
              "outlinewidth": 0,
              "ticks": ""
             }
            },
            "type": "scatterternary"
           }
          ],
          "surface": [
           {
            "colorbar": {
             "outlinewidth": 0,
             "ticks": ""
            },
            "colorscale": [
             [
              0,
              "#0d0887"
             ],
             [
              0.1111111111111111,
              "#46039f"
             ],
             [
              0.2222222222222222,
              "#7201a8"
             ],
             [
              0.3333333333333333,
              "#9c179e"
             ],
             [
              0.4444444444444444,
              "#bd3786"
             ],
             [
              0.5555555555555556,
              "#d8576b"
             ],
             [
              0.6666666666666666,
              "#ed7953"
             ],
             [
              0.7777777777777778,
              "#fb9f3a"
             ],
             [
              0.8888888888888888,
              "#fdca26"
             ],
             [
              1,
              "#f0f921"
             ]
            ],
            "type": "surface"
           }
          ],
          "table": [
           {
            "cells": {
             "fill": {
              "color": "#EBF0F8"
             },
             "line": {
              "color": "white"
             }
            },
            "header": {
             "fill": {
              "color": "#C8D4E3"
             },
             "line": {
              "color": "white"
             }
            },
            "type": "table"
           }
          ]
         },
         "layout": {
          "annotationdefaults": {
           "arrowcolor": "#2a3f5f",
           "arrowhead": 0,
           "arrowwidth": 1
          },
          "autotypenumbers": "strict",
          "coloraxis": {
           "colorbar": {
            "outlinewidth": 0,
            "ticks": ""
           }
          },
          "colorscale": {
           "diverging": [
            [
             0,
             "#8e0152"
            ],
            [
             0.1,
             "#c51b7d"
            ],
            [
             0.2,
             "#de77ae"
            ],
            [
             0.3,
             "#f1b6da"
            ],
            [
             0.4,
             "#fde0ef"
            ],
            [
             0.5,
             "#f7f7f7"
            ],
            [
             0.6,
             "#e6f5d0"
            ],
            [
             0.7,
             "#b8e186"
            ],
            [
             0.8,
             "#7fbc41"
            ],
            [
             0.9,
             "#4d9221"
            ],
            [
             1,
             "#276419"
            ]
           ],
           "sequential": [
            [
             0,
             "#0d0887"
            ],
            [
             0.1111111111111111,
             "#46039f"
            ],
            [
             0.2222222222222222,
             "#7201a8"
            ],
            [
             0.3333333333333333,
             "#9c179e"
            ],
            [
             0.4444444444444444,
             "#bd3786"
            ],
            [
             0.5555555555555556,
             "#d8576b"
            ],
            [
             0.6666666666666666,
             "#ed7953"
            ],
            [
             0.7777777777777778,
             "#fb9f3a"
            ],
            [
             0.8888888888888888,
             "#fdca26"
            ],
            [
             1,
             "#f0f921"
            ]
           ],
           "sequentialminus": [
            [
             0,
             "#0d0887"
            ],
            [
             0.1111111111111111,
             "#46039f"
            ],
            [
             0.2222222222222222,
             "#7201a8"
            ],
            [
             0.3333333333333333,
             "#9c179e"
            ],
            [
             0.4444444444444444,
             "#bd3786"
            ],
            [
             0.5555555555555556,
             "#d8576b"
            ],
            [
             0.6666666666666666,
             "#ed7953"
            ],
            [
             0.7777777777777778,
             "#fb9f3a"
            ],
            [
             0.8888888888888888,
             "#fdca26"
            ],
            [
             1,
             "#f0f921"
            ]
           ]
          },
          "colorway": [
           "#636efa",
           "#EF553B",
           "#00cc96",
           "#ab63fa",
           "#FFA15A",
           "#19d3f3",
           "#FF6692",
           "#B6E880",
           "#FF97FF",
           "#FECB52"
          ],
          "font": {
           "color": "#2a3f5f"
          },
          "geo": {
           "bgcolor": "white",
           "lakecolor": "white",
           "landcolor": "#E5ECF6",
           "showlakes": true,
           "showland": true,
           "subunitcolor": "white"
          },
          "hoverlabel": {
           "align": "left"
          },
          "hovermode": "closest",
          "mapbox": {
           "style": "light"
          },
          "paper_bgcolor": "white",
          "plot_bgcolor": "#E5ECF6",
          "polar": {
           "angularaxis": {
            "gridcolor": "white",
            "linecolor": "white",
            "ticks": ""
           },
           "bgcolor": "#E5ECF6",
           "radialaxis": {
            "gridcolor": "white",
            "linecolor": "white",
            "ticks": ""
           }
          },
          "scene": {
           "xaxis": {
            "backgroundcolor": "#E5ECF6",
            "gridcolor": "white",
            "gridwidth": 2,
            "linecolor": "white",
            "showbackground": true,
            "ticks": "",
            "zerolinecolor": "white"
           },
           "yaxis": {
            "backgroundcolor": "#E5ECF6",
            "gridcolor": "white",
            "gridwidth": 2,
            "linecolor": "white",
            "showbackground": true,
            "ticks": "",
            "zerolinecolor": "white"
           },
           "zaxis": {
            "backgroundcolor": "#E5ECF6",
            "gridcolor": "white",
            "gridwidth": 2,
            "linecolor": "white",
            "showbackground": true,
            "ticks": "",
            "zerolinecolor": "white"
           }
          },
          "shapedefaults": {
           "line": {
            "color": "#2a3f5f"
           }
          },
          "ternary": {
           "aaxis": {
            "gridcolor": "white",
            "linecolor": "white",
            "ticks": ""
           },
           "baxis": {
            "gridcolor": "white",
            "linecolor": "white",
            "ticks": ""
           },
           "bgcolor": "#E5ECF6",
           "caxis": {
            "gridcolor": "white",
            "linecolor": "white",
            "ticks": ""
           }
          },
          "title": {
           "x": 0.05
          },
          "xaxis": {
           "automargin": true,
           "gridcolor": "white",
           "linecolor": "white",
           "ticks": "",
           "title": {
            "standoff": 15
           },
           "zerolinecolor": "white",
           "zerolinewidth": 2
          },
          "yaxis": {
           "automargin": true,
           "gridcolor": "white",
           "linecolor": "white",
           "ticks": "",
           "title": {
            "standoff": 15
           },
           "zerolinecolor": "white",
           "zerolinewidth": 2
          }
         }
        },
        "title": {
         "font": {
          "size": 30
         },
         "text": "Distribution of Sentiment Classes for Netflix & Amazon"
        },
        "xaxis": {
         "title": {
          "text": "Stock"
         }
        },
        "yaxis": {
         "title": {
          "text": "Sentiment Count"
         }
        }
       }
      },
      "text/html": [
       "<div>                            <div id=\"1f1678c3-afcc-43a2-bb7a-3d5512534f1a\" class=\"plotly-graph-div\" style=\"height:525px; width:100%;\"></div>            <script type=\"text/javascript\">                require([\"plotly\"], function(Plotly) {                    window.PLOTLYENV=window.PLOTLYENV || {};                                    if (document.getElementById(\"1f1678c3-afcc-43a2-bb7a-3d5512534f1a\")) {                    Plotly.newPlot(                        \"1f1678c3-afcc-43a2-bb7a-3d5512534f1a\",                        [{\"name\":\"Neutral\",\"x\":[\"amazon\",\"netflix\"],\"y\":[91.0,207.0],\"type\":\"bar\"},{\"name\":\"Negative\",\"x\":[\"amazon\",\"netflix\"],\"y\":[206.0,132.0],\"type\":\"bar\"},{\"name\":\"Positive\",\"x\":[\"amazon\",\"netflix\"],\"y\":[761.0,245.0],\"type\":\"bar\"}],                        {\"template\":{\"data\":{\"histogram2dcontour\":[{\"type\":\"histogram2dcontour\",\"colorbar\":{\"outlinewidth\":0,\"ticks\":\"\"},\"colorscale\":[[0.0,\"#0d0887\"],[0.1111111111111111,\"#46039f\"],[0.2222222222222222,\"#7201a8\"],[0.3333333333333333,\"#9c179e\"],[0.4444444444444444,\"#bd3786\"],[0.5555555555555556,\"#d8576b\"],[0.6666666666666666,\"#ed7953\"],[0.7777777777777778,\"#fb9f3a\"],[0.8888888888888888,\"#fdca26\"],[1.0,\"#f0f921\"]]}],\"choropleth\":[{\"type\":\"choropleth\",\"colorbar\":{\"outlinewidth\":0,\"ticks\":\"\"}}],\"histogram2d\":[{\"type\":\"histogram2d\",\"colorbar\":{\"outlinewidth\":0,\"ticks\":\"\"},\"colorscale\":[[0.0,\"#0d0887\"],[0.1111111111111111,\"#46039f\"],[0.2222222222222222,\"#7201a8\"],[0.3333333333333333,\"#9c179e\"],[0.4444444444444444,\"#bd3786\"],[0.5555555555555556,\"#d8576b\"],[0.6666666666666666,\"#ed7953\"],[0.7777777777777778,\"#fb9f3a\"],[0.8888888888888888,\"#fdca26\"],[1.0,\"#f0f921\"]]}],\"heatmap\":[{\"type\":\"heatmap\",\"colorbar\":{\"outlinewidth\":0,\"ticks\":\"\"},\"colorscale\":[[0.0,\"#0d0887\"],[0.1111111111111111,\"#46039f\"],[0.2222222222222222,\"#7201a8\"],[0.3333333333333333,\"#9c179e\"],[0.4444444444444444,\"#bd3786\"],[0.5555555555555556,\"#d8576b\"],[0.6666666666666666,\"#ed7953\"],[0.7777777777777778,\"#fb9f3a\"],[0.8888888888888888,\"#fdca26\"],[1.0,\"#f0f921\"]]}],\"heatmapgl\":[{\"type\":\"heatmapgl\",\"colorbar\":{\"outlinewidth\":0,\"ticks\":\"\"},\"colorscale\":[[0.0,\"#0d0887\"],[0.1111111111111111,\"#46039f\"],[0.2222222222222222,\"#7201a8\"],[0.3333333333333333,\"#9c179e\"],[0.4444444444444444,\"#bd3786\"],[0.5555555555555556,\"#d8576b\"],[0.6666666666666666,\"#ed7953\"],[0.7777777777777778,\"#fb9f3a\"],[0.8888888888888888,\"#fdca26\"],[1.0,\"#f0f921\"]]}],\"contourcarpet\":[{\"type\":\"contourcarpet\",\"colorbar\":{\"outlinewidth\":0,\"ticks\":\"\"}}],\"contour\":[{\"type\":\"contour\",\"colorbar\":{\"outlinewidth\":0,\"ticks\":\"\"},\"colorscale\":[[0.0,\"#0d0887\"],[0.1111111111111111,\"#46039f\"],[0.2222222222222222,\"#7201a8\"],[0.3333333333333333,\"#9c179e\"],[0.4444444444444444,\"#bd3786\"],[0.5555555555555556,\"#d8576b\"],[0.6666666666666666,\"#ed7953\"],[0.7777777777777778,\"#fb9f3a\"],[0.8888888888888888,\"#fdca26\"],[1.0,\"#f0f921\"]]}],\"surface\":[{\"type\":\"surface\",\"colorbar\":{\"outlinewidth\":0,\"ticks\":\"\"},\"colorscale\":[[0.0,\"#0d0887\"],[0.1111111111111111,\"#46039f\"],[0.2222222222222222,\"#7201a8\"],[0.3333333333333333,\"#9c179e\"],[0.4444444444444444,\"#bd3786\"],[0.5555555555555556,\"#d8576b\"],[0.6666666666666666,\"#ed7953\"],[0.7777777777777778,\"#fb9f3a\"],[0.8888888888888888,\"#fdca26\"],[1.0,\"#f0f921\"]]}],\"mesh3d\":[{\"type\":\"mesh3d\",\"colorbar\":{\"outlinewidth\":0,\"ticks\":\"\"}}],\"scatter\":[{\"fillpattern\":{\"fillmode\":\"overlay\",\"size\":10,\"solidity\":0.2},\"type\":\"scatter\"}],\"parcoords\":[{\"type\":\"parcoords\",\"line\":{\"colorbar\":{\"outlinewidth\":0,\"ticks\":\"\"}}}],\"scatterpolargl\":[{\"type\":\"scatterpolargl\",\"marker\":{\"colorbar\":{\"outlinewidth\":0,\"ticks\":\"\"}}}],\"bar\":[{\"error_x\":{\"color\":\"#2a3f5f\"},\"error_y\":{\"color\":\"#2a3f5f\"},\"marker\":{\"line\":{\"color\":\"#E5ECF6\",\"width\":0.5},\"pattern\":{\"fillmode\":\"overlay\",\"size\":10,\"solidity\":0.2}},\"type\":\"bar\"}],\"scattergeo\":[{\"type\":\"scattergeo\",\"marker\":{\"colorbar\":{\"outlinewidth\":0,\"ticks\":\"\"}}}],\"scatterpolar\":[{\"type\":\"scatterpolar\",\"marker\":{\"colorbar\":{\"outlinewidth\":0,\"ticks\":\"\"}}}],\"histogram\":[{\"marker\":{\"pattern\":{\"fillmode\":\"overlay\",\"size\":10,\"solidity\":0.2}},\"type\":\"histogram\"}],\"scattergl\":[{\"type\":\"scattergl\",\"marker\":{\"colorbar\":{\"outlinewidth\":0,\"ticks\":\"\"}}}],\"scatter3d\":[{\"type\":\"scatter3d\",\"line\":{\"colorbar\":{\"outlinewidth\":0,\"ticks\":\"\"}},\"marker\":{\"colorbar\":{\"outlinewidth\":0,\"ticks\":\"\"}}}],\"scattermapbox\":[{\"type\":\"scattermapbox\",\"marker\":{\"colorbar\":{\"outlinewidth\":0,\"ticks\":\"\"}}}],\"scatterternary\":[{\"type\":\"scatterternary\",\"marker\":{\"colorbar\":{\"outlinewidth\":0,\"ticks\":\"\"}}}],\"scattercarpet\":[{\"type\":\"scattercarpet\",\"marker\":{\"colorbar\":{\"outlinewidth\":0,\"ticks\":\"\"}}}],\"carpet\":[{\"aaxis\":{\"endlinecolor\":\"#2a3f5f\",\"gridcolor\":\"white\",\"linecolor\":\"white\",\"minorgridcolor\":\"white\",\"startlinecolor\":\"#2a3f5f\"},\"baxis\":{\"endlinecolor\":\"#2a3f5f\",\"gridcolor\":\"white\",\"linecolor\":\"white\",\"minorgridcolor\":\"white\",\"startlinecolor\":\"#2a3f5f\"},\"type\":\"carpet\"}],\"table\":[{\"cells\":{\"fill\":{\"color\":\"#EBF0F8\"},\"line\":{\"color\":\"white\"}},\"header\":{\"fill\":{\"color\":\"#C8D4E3\"},\"line\":{\"color\":\"white\"}},\"type\":\"table\"}],\"barpolar\":[{\"marker\":{\"line\":{\"color\":\"#E5ECF6\",\"width\":0.5},\"pattern\":{\"fillmode\":\"overlay\",\"size\":10,\"solidity\":0.2}},\"type\":\"barpolar\"}],\"pie\":[{\"automargin\":true,\"type\":\"pie\"}]},\"layout\":{\"autotypenumbers\":\"strict\",\"colorway\":[\"#636efa\",\"#EF553B\",\"#00cc96\",\"#ab63fa\",\"#FFA15A\",\"#19d3f3\",\"#FF6692\",\"#B6E880\",\"#FF97FF\",\"#FECB52\"],\"font\":{\"color\":\"#2a3f5f\"},\"hovermode\":\"closest\",\"hoverlabel\":{\"align\":\"left\"},\"paper_bgcolor\":\"white\",\"plot_bgcolor\":\"#E5ECF6\",\"polar\":{\"bgcolor\":\"#E5ECF6\",\"angularaxis\":{\"gridcolor\":\"white\",\"linecolor\":\"white\",\"ticks\":\"\"},\"radialaxis\":{\"gridcolor\":\"white\",\"linecolor\":\"white\",\"ticks\":\"\"}},\"ternary\":{\"bgcolor\":\"#E5ECF6\",\"aaxis\":{\"gridcolor\":\"white\",\"linecolor\":\"white\",\"ticks\":\"\"},\"baxis\":{\"gridcolor\":\"white\",\"linecolor\":\"white\",\"ticks\":\"\"},\"caxis\":{\"gridcolor\":\"white\",\"linecolor\":\"white\",\"ticks\":\"\"}},\"coloraxis\":{\"colorbar\":{\"outlinewidth\":0,\"ticks\":\"\"}},\"colorscale\":{\"sequential\":[[0.0,\"#0d0887\"],[0.1111111111111111,\"#46039f\"],[0.2222222222222222,\"#7201a8\"],[0.3333333333333333,\"#9c179e\"],[0.4444444444444444,\"#bd3786\"],[0.5555555555555556,\"#d8576b\"],[0.6666666666666666,\"#ed7953\"],[0.7777777777777778,\"#fb9f3a\"],[0.8888888888888888,\"#fdca26\"],[1.0,\"#f0f921\"]],\"sequentialminus\":[[0.0,\"#0d0887\"],[0.1111111111111111,\"#46039f\"],[0.2222222222222222,\"#7201a8\"],[0.3333333333333333,\"#9c179e\"],[0.4444444444444444,\"#bd3786\"],[0.5555555555555556,\"#d8576b\"],[0.6666666666666666,\"#ed7953\"],[0.7777777777777778,\"#fb9f3a\"],[0.8888888888888888,\"#fdca26\"],[1.0,\"#f0f921\"]],\"diverging\":[[0,\"#8e0152\"],[0.1,\"#c51b7d\"],[0.2,\"#de77ae\"],[0.3,\"#f1b6da\"],[0.4,\"#fde0ef\"],[0.5,\"#f7f7f7\"],[0.6,\"#e6f5d0\"],[0.7,\"#b8e186\"],[0.8,\"#7fbc41\"],[0.9,\"#4d9221\"],[1,\"#276419\"]]},\"xaxis\":{\"gridcolor\":\"white\",\"linecolor\":\"white\",\"ticks\":\"\",\"title\":{\"standoff\":15},\"zerolinecolor\":\"white\",\"automargin\":true,\"zerolinewidth\":2},\"yaxis\":{\"gridcolor\":\"white\",\"linecolor\":\"white\",\"ticks\":\"\",\"title\":{\"standoff\":15},\"zerolinecolor\":\"white\",\"automargin\":true,\"zerolinewidth\":2},\"scene\":{\"xaxis\":{\"backgroundcolor\":\"#E5ECF6\",\"gridcolor\":\"white\",\"linecolor\":\"white\",\"showbackground\":true,\"ticks\":\"\",\"zerolinecolor\":\"white\",\"gridwidth\":2},\"yaxis\":{\"backgroundcolor\":\"#E5ECF6\",\"gridcolor\":\"white\",\"linecolor\":\"white\",\"showbackground\":true,\"ticks\":\"\",\"zerolinecolor\":\"white\",\"gridwidth\":2},\"zaxis\":{\"backgroundcolor\":\"#E5ECF6\",\"gridcolor\":\"white\",\"linecolor\":\"white\",\"showbackground\":true,\"ticks\":\"\",\"zerolinecolor\":\"white\",\"gridwidth\":2}},\"shapedefaults\":{\"line\":{\"color\":\"#2a3f5f\"}},\"annotationdefaults\":{\"arrowcolor\":\"#2a3f5f\",\"arrowhead\":0,\"arrowwidth\":1},\"geo\":{\"bgcolor\":\"white\",\"landcolor\":\"#E5ECF6\",\"subunitcolor\":\"white\",\"showland\":true,\"showlakes\":true,\"lakecolor\":\"white\"},\"title\":{\"x\":0.05},\"mapbox\":{\"style\":\"light\"}}},\"title\":{\"font\":{\"size\":30},\"text\":\"Distribution of Sentiment Classes for Netflix & Amazon\"},\"barmode\":\"group\",\"plot_bgcolor\":\"white\",\"xaxis\":{\"title\":{\"text\":\"Stock\"}},\"yaxis\":{\"title\":{\"text\":\"Sentiment Count\"}}},                        {\"responsive\": true}                    ).then(function(){\n",
       "                            \n",
       "var gd = document.getElementById('1f1678c3-afcc-43a2-bb7a-3d5512534f1a');\n",
       "var x = new MutationObserver(function (mutations, observer) {{\n",
       "        var display = window.getComputedStyle(gd).display;\n",
       "        if (!display || display === 'none') {{\n",
       "            console.log([gd, 'removed!']);\n",
       "            Plotly.purge(gd);\n",
       "            observer.disconnect();\n",
       "        }}\n",
       "}});\n",
       "\n",
       "// Listen for the removal of the full notebook cells\n",
       "var notebookContainer = gd.closest('#notebook-container');\n",
       "if (notebookContainer) {{\n",
       "    x.observe(notebookContainer, {childList: true});\n",
       "}}\n",
       "\n",
       "// Listen for the clearing of the current output cell\n",
       "var outputEl = gd.closest('.output');\n",
       "if (outputEl) {{\n",
       "    x.observe(outputEl, {childList: true});\n",
       "}}\n",
       "\n",
       "                        })                };                });            </script>        </div>"
      ]
     },
     "metadata": {},
     "output_type": "display_data"
    }
   ],
   "source": [
    "# Grouped Bar Chart\n",
    "\n",
    "# Group by stock and sum sentiment values\n",
    "sentiment_sums = (\n",
    "    tweet_sentiment_df.groupby(\"stock\")[\n",
    "        [\"Negative_VADER\", \"Neutral_VADER\", \"Positive_VADER\"]\n",
    "    ]\n",
    "    .sum()\n",
    "    .reset_index()\n",
    ")\n",
    "\n",
    "# Create grouped bar chart\n",
    "fig = go.Figure(\n",
    "    data=[\n",
    "        go.Bar(\n",
    "            name=\"Neutral\",\n",
    "            x=sentiment_sums[\"stock\"],\n",
    "            y=sentiment_sums[\"Neutral_VADER\"],\n",
    "        ),\n",
    "        go.Bar(\n",
    "            name=\"Negative\",\n",
    "            x=sentiment_sums[\"stock\"],\n",
    "            y=sentiment_sums[\"Negative_VADER\"],\n",
    "        ),\n",
    "        go.Bar(\n",
    "            name=\"Positive\",\n",
    "            x=sentiment_sums[\"stock\"],\n",
    "            y=sentiment_sums[\"Positive_VADER\"],\n",
    "        ),\n",
    "    ]\n",
    ")\n",
    "\n",
    "# Update layout\n",
    "fig.update_layout(\n",
    "    barmode=\"group\",\n",
    "    title_text=\"Distribution of Sentiment Classes for Netflix & Amazon\",\n",
    "    title_font=dict(size=30),\n",
    "    plot_bgcolor=\"white\",\n",
    "    xaxis_title=\"Stock\",\n",
    "    yaxis_title=\"Sentiment Count\",\n",
    ")\n",
    "\n",
    "fig.show()"
   ]
  },
  {
   "cell_type": "markdown",
   "id": "7aea2df2",
   "metadata": {},
   "source": [
    "# **Getting Financial data (Yahoo)**"
   ]
  },
  {
   "cell_type": "code",
   "execution_count": 147,
   "id": "ec7c5907",
   "metadata": {
    "lines_to_next_cell": 2
   },
   "outputs": [
    {
     "data": {
      "text/html": [
       "<div>\n",
       "<style scoped>\n",
       "    .dataframe tbody tr th:only-of-type {\n",
       "        vertical-align: middle;\n",
       "    }\n",
       "\n",
       "    .dataframe tbody tr th {\n",
       "        vertical-align: top;\n",
       "    }\n",
       "\n",
       "    .dataframe thead th {\n",
       "        text-align: right;\n",
       "    }\n",
       "</style>\n",
       "<table border=\"1\" class=\"dataframe\">\n",
       "  <thead>\n",
       "    <tr style=\"text-align: right;\">\n",
       "      <th></th>\n",
       "      <th>Open</th>\n",
       "      <th>High</th>\n",
       "      <th>Low</th>\n",
       "      <th>Close</th>\n",
       "      <th>Volume</th>\n",
       "      <th>Dividends</th>\n",
       "      <th>Stock Splits</th>\n",
       "      <th>stock</th>\n",
       "    </tr>\n",
       "    <tr>\n",
       "      <th>Date</th>\n",
       "      <th></th>\n",
       "      <th></th>\n",
       "      <th></th>\n",
       "      <th></th>\n",
       "      <th></th>\n",
       "      <th></th>\n",
       "      <th></th>\n",
       "      <th></th>\n",
       "    </tr>\n",
       "  </thead>\n",
       "  <tbody>\n",
       "    <tr>\n",
       "      <th>2024-06-03 00:00:00-04:00</th>\n",
       "      <td>177.699997</td>\n",
       "      <td>178.699997</td>\n",
       "      <td>175.919998</td>\n",
       "      <td>178.339996</td>\n",
       "      <td>30786600</td>\n",
       "      <td>0.0</td>\n",
       "      <td>0.0</td>\n",
       "      <td>amazon</td>\n",
       "    </tr>\n",
       "    <tr>\n",
       "      <th>2024-06-04 00:00:00-04:00</th>\n",
       "      <td>177.639999</td>\n",
       "      <td>179.820007</td>\n",
       "      <td>176.440002</td>\n",
       "      <td>179.339996</td>\n",
       "      <td>27198400</td>\n",
       "      <td>0.0</td>\n",
       "      <td>0.0</td>\n",
       "      <td>amazon</td>\n",
       "    </tr>\n",
       "    <tr>\n",
       "      <th>2024-06-05 00:00:00-04:00</th>\n",
       "      <td>180.100006</td>\n",
       "      <td>181.500000</td>\n",
       "      <td>178.750000</td>\n",
       "      <td>181.279999</td>\n",
       "      <td>32116400</td>\n",
       "      <td>0.0</td>\n",
       "      <td>0.0</td>\n",
       "      <td>amazon</td>\n",
       "    </tr>\n",
       "    <tr>\n",
       "      <th>2024-06-06 00:00:00-04:00</th>\n",
       "      <td>181.750000</td>\n",
       "      <td>185.000000</td>\n",
       "      <td>181.490005</td>\n",
       "      <td>185.000000</td>\n",
       "      <td>31371200</td>\n",
       "      <td>0.0</td>\n",
       "      <td>0.0</td>\n",
       "      <td>amazon</td>\n",
       "    </tr>\n",
       "    <tr>\n",
       "      <th>2024-06-07 00:00:00-04:00</th>\n",
       "      <td>184.899994</td>\n",
       "      <td>186.289993</td>\n",
       "      <td>183.360001</td>\n",
       "      <td>184.300003</td>\n",
       "      <td>28021500</td>\n",
       "      <td>0.0</td>\n",
       "      <td>0.0</td>\n",
       "      <td>amazon</td>\n",
       "    </tr>\n",
       "    <tr>\n",
       "      <th>...</th>\n",
       "      <td>...</td>\n",
       "      <td>...</td>\n",
       "      <td>...</td>\n",
       "      <td>...</td>\n",
       "      <td>...</td>\n",
       "      <td>...</td>\n",
       "      <td>...</td>\n",
       "      <td>...</td>\n",
       "    </tr>\n",
       "    <tr>\n",
       "      <th>2025-03-25 00:00:00-04:00</th>\n",
       "      <td>978.179993</td>\n",
       "      <td>998.700012</td>\n",
       "      <td>977.109985</td>\n",
       "      <td>997.280029</td>\n",
       "      <td>3782200</td>\n",
       "      <td>0.0</td>\n",
       "      <td>0.0</td>\n",
       "      <td>netflix</td>\n",
       "    </tr>\n",
       "    <tr>\n",
       "      <th>2025-03-26 00:00:00-04:00</th>\n",
       "      <td>993.809998</td>\n",
       "      <td>996.789978</td>\n",
       "      <td>966.320007</td>\n",
       "      <td>970.650024</td>\n",
       "      <td>3527400</td>\n",
       "      <td>0.0</td>\n",
       "      <td>0.0</td>\n",
       "      <td>netflix</td>\n",
       "    </tr>\n",
       "    <tr>\n",
       "      <th>2025-03-27 00:00:00-04:00</th>\n",
       "      <td>974.219971</td>\n",
       "      <td>989.000000</td>\n",
       "      <td>966.369995</td>\n",
       "      <td>976.719971</td>\n",
       "      <td>3047200</td>\n",
       "      <td>0.0</td>\n",
       "      <td>0.0</td>\n",
       "      <td>netflix</td>\n",
       "    </tr>\n",
       "    <tr>\n",
       "      <th>2025-03-28 00:00:00-04:00</th>\n",
       "      <td>972.000000</td>\n",
       "      <td>974.979980</td>\n",
       "      <td>929.229980</td>\n",
       "      <td>933.849976</td>\n",
       "      <td>4422700</td>\n",
       "      <td>0.0</td>\n",
       "      <td>0.0</td>\n",
       "      <td>netflix</td>\n",
       "    </tr>\n",
       "    <tr>\n",
       "      <th>2025-03-31 00:00:00-04:00</th>\n",
       "      <td>920.530029</td>\n",
       "      <td>934.479980</td>\n",
       "      <td>900.590027</td>\n",
       "      <td>932.530029</td>\n",
       "      <td>4634100</td>\n",
       "      <td>0.0</td>\n",
       "      <td>0.0</td>\n",
       "      <td>netflix</td>\n",
       "    </tr>\n",
       "  </tbody>\n",
       "</table>\n",
       "<p>414 rows × 8 columns</p>\n",
       "</div>"
      ],
      "text/plain": [
       "                                 Open        High         Low       Close  \\\n",
       "Date                                                                        \n",
       "2024-06-03 00:00:00-04:00  177.699997  178.699997  175.919998  178.339996   \n",
       "2024-06-04 00:00:00-04:00  177.639999  179.820007  176.440002  179.339996   \n",
       "2024-06-05 00:00:00-04:00  180.100006  181.500000  178.750000  181.279999   \n",
       "2024-06-06 00:00:00-04:00  181.750000  185.000000  181.490005  185.000000   \n",
       "2024-06-07 00:00:00-04:00  184.899994  186.289993  183.360001  184.300003   \n",
       "...                               ...         ...         ...         ...   \n",
       "2025-03-25 00:00:00-04:00  978.179993  998.700012  977.109985  997.280029   \n",
       "2025-03-26 00:00:00-04:00  993.809998  996.789978  966.320007  970.650024   \n",
       "2025-03-27 00:00:00-04:00  974.219971  989.000000  966.369995  976.719971   \n",
       "2025-03-28 00:00:00-04:00  972.000000  974.979980  929.229980  933.849976   \n",
       "2025-03-31 00:00:00-04:00  920.530029  934.479980  900.590027  932.530029   \n",
       "\n",
       "                             Volume  Dividends  Stock Splits    stock  \n",
       "Date                                                                   \n",
       "2024-06-03 00:00:00-04:00  30786600        0.0           0.0   amazon  \n",
       "2024-06-04 00:00:00-04:00  27198400        0.0           0.0   amazon  \n",
       "2024-06-05 00:00:00-04:00  32116400        0.0           0.0   amazon  \n",
       "2024-06-06 00:00:00-04:00  31371200        0.0           0.0   amazon  \n",
       "2024-06-07 00:00:00-04:00  28021500        0.0           0.0   amazon  \n",
       "...                             ...        ...           ...      ...  \n",
       "2025-03-25 00:00:00-04:00   3782200        0.0           0.0  netflix  \n",
       "2025-03-26 00:00:00-04:00   3527400        0.0           0.0  netflix  \n",
       "2025-03-27 00:00:00-04:00   3047200        0.0           0.0  netflix  \n",
       "2025-03-28 00:00:00-04:00   4422700        0.0           0.0  netflix  \n",
       "2025-03-31 00:00:00-04:00   4634100        0.0           0.0  netflix  \n",
       "\n",
       "[414 rows x 8 columns]"
      ]
     },
     "execution_count": 147,
     "metadata": {},
     "output_type": "execute_result"
    }
   ],
   "source": [
    "# Fetch historical market data\n",
    "AMZN = yf.Ticker(\"AMZN\")\n",
    "NFLX = yf.Ticker(\"NFLX\")\n",
    "\n",
    "# Get historical data for Amazon\n",
    "amazon_hist = AMZN.history(start=START_DATE, end=END_DATE)\n",
    "amazon_hist[\"stock\"] = \"amazon\"  # Add stock identifier\n",
    "\n",
    "# Get historical data for Netflix\n",
    "netflix_hist = NFLX.history(start=START_DATE, end=END_DATE)\n",
    "netflix_hist[\"stock\"] = \"netflix\"  # Add stock identifier\n",
    "\n",
    "# Combine both datasets\n",
    "financials = pd.concat([amazon_hist, netflix_hist], ignore_index=False)\n",
    "\n",
    "print(financials.shape)\n",
    "financials"
   ]
  },
  {
   "cell_type": "code",
   "execution_count": 108,
   "id": "14e3c757",
   "metadata": {
    "lines_to_next_cell": 2
   },
   "outputs": [
    {
     "data": {
      "text/html": [
       "<div>\n",
       "<style scoped>\n",
       "    .dataframe tbody tr th:only-of-type {\n",
       "        vertical-align: middle;\n",
       "    }\n",
       "\n",
       "    .dataframe tbody tr th {\n",
       "        vertical-align: top;\n",
       "    }\n",
       "\n",
       "    .dataframe thead th {\n",
       "        text-align: right;\n",
       "    }\n",
       "</style>\n",
       "<table border=\"1\" class=\"dataframe\">\n",
       "  <thead>\n",
       "    <tr style=\"text-align: right;\">\n",
       "      <th></th>\n",
       "      <th>Open</th>\n",
       "      <th>High</th>\n",
       "      <th>Low</th>\n",
       "      <th>Close</th>\n",
       "      <th>Volume</th>\n",
       "      <th>Dividends</th>\n",
       "      <th>Stock Splits</th>\n",
       "      <th>stock</th>\n",
       "      <th>returns</th>\n",
       "      <th>return_sign</th>\n",
       "    </tr>\n",
       "    <tr>\n",
       "      <th>Date</th>\n",
       "      <th></th>\n",
       "      <th></th>\n",
       "      <th></th>\n",
       "      <th></th>\n",
       "      <th></th>\n",
       "      <th></th>\n",
       "      <th></th>\n",
       "      <th></th>\n",
       "      <th></th>\n",
       "      <th></th>\n",
       "    </tr>\n",
       "  </thead>\n",
       "  <tbody>\n",
       "    <tr>\n",
       "      <th>2024-06-03 00:00:00-04:00</th>\n",
       "      <td>177.699997</td>\n",
       "      <td>178.699997</td>\n",
       "      <td>175.919998</td>\n",
       "      <td>178.339996</td>\n",
       "      <td>30786600</td>\n",
       "      <td>0.0</td>\n",
       "      <td>0.0</td>\n",
       "      <td>amazon</td>\n",
       "      <td>NaN</td>\n",
       "      <td>0</td>\n",
       "    </tr>\n",
       "    <tr>\n",
       "      <th>2024-06-04 00:00:00-04:00</th>\n",
       "      <td>177.639999</td>\n",
       "      <td>179.820007</td>\n",
       "      <td>176.440002</td>\n",
       "      <td>179.339996</td>\n",
       "      <td>27198400</td>\n",
       "      <td>0.0</td>\n",
       "      <td>0.0</td>\n",
       "      <td>amazon</td>\n",
       "      <td>0.005607</td>\n",
       "      <td>1</td>\n",
       "    </tr>\n",
       "    <tr>\n",
       "      <th>2024-06-05 00:00:00-04:00</th>\n",
       "      <td>180.100006</td>\n",
       "      <td>181.500000</td>\n",
       "      <td>178.750000</td>\n",
       "      <td>181.279999</td>\n",
       "      <td>32116400</td>\n",
       "      <td>0.0</td>\n",
       "      <td>0.0</td>\n",
       "      <td>amazon</td>\n",
       "      <td>0.010817</td>\n",
       "      <td>1</td>\n",
       "    </tr>\n",
       "    <tr>\n",
       "      <th>2024-06-06 00:00:00-04:00</th>\n",
       "      <td>181.750000</td>\n",
       "      <td>185.000000</td>\n",
       "      <td>181.490005</td>\n",
       "      <td>185.000000</td>\n",
       "      <td>31371200</td>\n",
       "      <td>0.0</td>\n",
       "      <td>0.0</td>\n",
       "      <td>amazon</td>\n",
       "      <td>0.020521</td>\n",
       "      <td>1</td>\n",
       "    </tr>\n",
       "    <tr>\n",
       "      <th>2024-06-07 00:00:00-04:00</th>\n",
       "      <td>184.899994</td>\n",
       "      <td>186.289993</td>\n",
       "      <td>183.360001</td>\n",
       "      <td>184.300003</td>\n",
       "      <td>28021500</td>\n",
       "      <td>0.0</td>\n",
       "      <td>0.0</td>\n",
       "      <td>amazon</td>\n",
       "      <td>-0.003784</td>\n",
       "      <td>0</td>\n",
       "    </tr>\n",
       "    <tr>\n",
       "      <th>...</th>\n",
       "      <td>...</td>\n",
       "      <td>...</td>\n",
       "      <td>...</td>\n",
       "      <td>...</td>\n",
       "      <td>...</td>\n",
       "      <td>...</td>\n",
       "      <td>...</td>\n",
       "      <td>...</td>\n",
       "      <td>...</td>\n",
       "      <td>...</td>\n",
       "    </tr>\n",
       "    <tr>\n",
       "      <th>2025-03-25 00:00:00-04:00</th>\n",
       "      <td>978.179993</td>\n",
       "      <td>998.700012</td>\n",
       "      <td>977.109985</td>\n",
       "      <td>997.280029</td>\n",
       "      <td>3782200</td>\n",
       "      <td>0.0</td>\n",
       "      <td>0.0</td>\n",
       "      <td>netflix</td>\n",
       "      <td>0.026019</td>\n",
       "      <td>1</td>\n",
       "    </tr>\n",
       "    <tr>\n",
       "      <th>2025-03-26 00:00:00-04:00</th>\n",
       "      <td>993.809998</td>\n",
       "      <td>996.789978</td>\n",
       "      <td>966.320007</td>\n",
       "      <td>970.650024</td>\n",
       "      <td>3527400</td>\n",
       "      <td>0.0</td>\n",
       "      <td>0.0</td>\n",
       "      <td>netflix</td>\n",
       "      <td>-0.026703</td>\n",
       "      <td>0</td>\n",
       "    </tr>\n",
       "    <tr>\n",
       "      <th>2025-03-27 00:00:00-04:00</th>\n",
       "      <td>974.219971</td>\n",
       "      <td>989.000000</td>\n",
       "      <td>966.369995</td>\n",
       "      <td>976.719971</td>\n",
       "      <td>3047200</td>\n",
       "      <td>0.0</td>\n",
       "      <td>0.0</td>\n",
       "      <td>netflix</td>\n",
       "      <td>0.006253</td>\n",
       "      <td>1</td>\n",
       "    </tr>\n",
       "    <tr>\n",
       "      <th>2025-03-28 00:00:00-04:00</th>\n",
       "      <td>972.000000</td>\n",
       "      <td>974.979980</td>\n",
       "      <td>929.229980</td>\n",
       "      <td>933.849976</td>\n",
       "      <td>4422700</td>\n",
       "      <td>0.0</td>\n",
       "      <td>0.0</td>\n",
       "      <td>netflix</td>\n",
       "      <td>-0.043892</td>\n",
       "      <td>0</td>\n",
       "    </tr>\n",
       "    <tr>\n",
       "      <th>2025-03-31 00:00:00-04:00</th>\n",
       "      <td>920.530029</td>\n",
       "      <td>934.479980</td>\n",
       "      <td>900.590027</td>\n",
       "      <td>932.530029</td>\n",
       "      <td>4634100</td>\n",
       "      <td>0.0</td>\n",
       "      <td>0.0</td>\n",
       "      <td>netflix</td>\n",
       "      <td>-0.001413</td>\n",
       "      <td>0</td>\n",
       "    </tr>\n",
       "  </tbody>\n",
       "</table>\n",
       "<p>414 rows × 10 columns</p>\n",
       "</div>"
      ],
      "text/plain": [
       "                                 Open        High         Low       Close  \\\n",
       "Date                                                                        \n",
       "2024-06-03 00:00:00-04:00  177.699997  178.699997  175.919998  178.339996   \n",
       "2024-06-04 00:00:00-04:00  177.639999  179.820007  176.440002  179.339996   \n",
       "2024-06-05 00:00:00-04:00  180.100006  181.500000  178.750000  181.279999   \n",
       "2024-06-06 00:00:00-04:00  181.750000  185.000000  181.490005  185.000000   \n",
       "2024-06-07 00:00:00-04:00  184.899994  186.289993  183.360001  184.300003   \n",
       "...                               ...         ...         ...         ...   \n",
       "2025-03-25 00:00:00-04:00  978.179993  998.700012  977.109985  997.280029   \n",
       "2025-03-26 00:00:00-04:00  993.809998  996.789978  966.320007  970.650024   \n",
       "2025-03-27 00:00:00-04:00  974.219971  989.000000  966.369995  976.719971   \n",
       "2025-03-28 00:00:00-04:00  972.000000  974.979980  929.229980  933.849976   \n",
       "2025-03-31 00:00:00-04:00  920.530029  934.479980  900.590027  932.530029   \n",
       "\n",
       "                             Volume  Dividends  Stock Splits    stock  \\\n",
       "Date                                                                    \n",
       "2024-06-03 00:00:00-04:00  30786600        0.0           0.0   amazon   \n",
       "2024-06-04 00:00:00-04:00  27198400        0.0           0.0   amazon   \n",
       "2024-06-05 00:00:00-04:00  32116400        0.0           0.0   amazon   \n",
       "2024-06-06 00:00:00-04:00  31371200        0.0           0.0   amazon   \n",
       "2024-06-07 00:00:00-04:00  28021500        0.0           0.0   amazon   \n",
       "...                             ...        ...           ...      ...   \n",
       "2025-03-25 00:00:00-04:00   3782200        0.0           0.0  netflix   \n",
       "2025-03-26 00:00:00-04:00   3527400        0.0           0.0  netflix   \n",
       "2025-03-27 00:00:00-04:00   3047200        0.0           0.0  netflix   \n",
       "2025-03-28 00:00:00-04:00   4422700        0.0           0.0  netflix   \n",
       "2025-03-31 00:00:00-04:00   4634100        0.0           0.0  netflix   \n",
       "\n",
       "                            returns return_sign  \n",
       "Date                                             \n",
       "2024-06-03 00:00:00-04:00       NaN           0  \n",
       "2024-06-04 00:00:00-04:00  0.005607           1  \n",
       "2024-06-05 00:00:00-04:00  0.010817           1  \n",
       "2024-06-06 00:00:00-04:00  0.020521           1  \n",
       "2024-06-07 00:00:00-04:00 -0.003784           0  \n",
       "...                             ...         ...  \n",
       "2025-03-25 00:00:00-04:00  0.026019           1  \n",
       "2025-03-26 00:00:00-04:00 -0.026703           0  \n",
       "2025-03-27 00:00:00-04:00  0.006253           1  \n",
       "2025-03-28 00:00:00-04:00 -0.043892           0  \n",
       "2025-03-31 00:00:00-04:00 -0.001413           0  \n",
       "\n",
       "[414 rows x 10 columns]"
      ]
     },
     "execution_count": 108,
     "metadata": {},
     "output_type": "execute_result"
    },
    {
     "name": "stderr",
     "output_type": "stream",
     "text": [
      "13:80: E501 line too long (82 > 79 characters)\n"
     ]
    }
   ],
   "source": [
    "# Calculate returns\n",
    "financials[\"returns\"] = financials[\"Close\"] / financials[\"Close\"].shift(1) - 1\n",
    "\n",
    "\n",
    "def analyse_returns(returns):\n",
    "    \"\"\"\n",
    "    Classifies stock returns based on whether they are positive or negative.\n",
    "\n",
    "    Args:\n",
    "        returns (float): The daily return of the stock.\n",
    "\n",
    "    Returns:\n",
    "        str: \"1\" if the return is positive or zero, \"0\" if the return is negative.\n",
    "    \"\"\"\n",
    "    return \"1\" if returns >= 0 else \"0\"  # Simplified return statement\n",
    "\n",
    "\n",
    "# Apply the function to classify returns\n",
    "financials[\"return_sign\"] = financials[\"returns\"].apply(analyse_returns)\n",
    "\n",
    "# Display DataFrame shape\n",
    "print(financials.shape)\n",
    "financials"
   ]
  },
  {
   "cell_type": "code",
   "execution_count": 109,
   "id": "bc8abefc",
   "metadata": {},
   "outputs": [
    {
     "data": {
      "text/html": [
       "<div>\n",
       "<style scoped>\n",
       "    .dataframe tbody tr th:only-of-type {\n",
       "        vertical-align: middle;\n",
       "    }\n",
       "\n",
       "    .dataframe tbody tr th {\n",
       "        vertical-align: top;\n",
       "    }\n",
       "\n",
       "    .dataframe thead th {\n",
       "        text-align: right;\n",
       "    }\n",
       "</style>\n",
       "<table border=\"1\" class=\"dataframe\">\n",
       "  <thead>\n",
       "    <tr style=\"text-align: right;\">\n",
       "      <th></th>\n",
       "      <th>stock</th>\n",
       "      <th>returns</th>\n",
       "      <th>return_sign</th>\n",
       "      <th>date</th>\n",
       "    </tr>\n",
       "  </thead>\n",
       "  <tbody>\n",
       "    <tr>\n",
       "      <th>0</th>\n",
       "      <td>amazon</td>\n",
       "      <td>NaN</td>\n",
       "      <td>0</td>\n",
       "      <td>2024-06-03</td>\n",
       "    </tr>\n",
       "    <tr>\n",
       "      <th>1</th>\n",
       "      <td>amazon</td>\n",
       "      <td>0.005607</td>\n",
       "      <td>1</td>\n",
       "      <td>2024-06-04</td>\n",
       "    </tr>\n",
       "    <tr>\n",
       "      <th>2</th>\n",
       "      <td>amazon</td>\n",
       "      <td>0.010817</td>\n",
       "      <td>1</td>\n",
       "      <td>2024-06-05</td>\n",
       "    </tr>\n",
       "    <tr>\n",
       "      <th>3</th>\n",
       "      <td>amazon</td>\n",
       "      <td>0.020521</td>\n",
       "      <td>1</td>\n",
       "      <td>2024-06-06</td>\n",
       "    </tr>\n",
       "    <tr>\n",
       "      <th>4</th>\n",
       "      <td>amazon</td>\n",
       "      <td>-0.003784</td>\n",
       "      <td>0</td>\n",
       "      <td>2024-06-07</td>\n",
       "    </tr>\n",
       "    <tr>\n",
       "      <th>...</th>\n",
       "      <td>...</td>\n",
       "      <td>...</td>\n",
       "      <td>...</td>\n",
       "      <td>...</td>\n",
       "    </tr>\n",
       "    <tr>\n",
       "      <th>409</th>\n",
       "      <td>netflix</td>\n",
       "      <td>0.026019</td>\n",
       "      <td>1</td>\n",
       "      <td>2025-03-25</td>\n",
       "    </tr>\n",
       "    <tr>\n",
       "      <th>410</th>\n",
       "      <td>netflix</td>\n",
       "      <td>-0.026703</td>\n",
       "      <td>0</td>\n",
       "      <td>2025-03-26</td>\n",
       "    </tr>\n",
       "    <tr>\n",
       "      <th>411</th>\n",
       "      <td>netflix</td>\n",
       "      <td>0.006253</td>\n",
       "      <td>1</td>\n",
       "      <td>2025-03-27</td>\n",
       "    </tr>\n",
       "    <tr>\n",
       "      <th>412</th>\n",
       "      <td>netflix</td>\n",
       "      <td>-0.043892</td>\n",
       "      <td>0</td>\n",
       "      <td>2025-03-28</td>\n",
       "    </tr>\n",
       "    <tr>\n",
       "      <th>413</th>\n",
       "      <td>netflix</td>\n",
       "      <td>-0.001413</td>\n",
       "      <td>0</td>\n",
       "      <td>2025-03-31</td>\n",
       "    </tr>\n",
       "  </tbody>\n",
       "</table>\n",
       "<p>414 rows × 4 columns</p>\n",
       "</div>"
      ],
      "text/plain": [
       "       stock   returns return_sign        date\n",
       "0     amazon       NaN           0  2024-06-03\n",
       "1     amazon  0.005607           1  2024-06-04\n",
       "2     amazon  0.010817           1  2024-06-05\n",
       "3     amazon  0.020521           1  2024-06-06\n",
       "4     amazon -0.003784           0  2024-06-07\n",
       "..       ...       ...         ...         ...\n",
       "409  netflix  0.026019           1  2025-03-25\n",
       "410  netflix -0.026703           0  2025-03-26\n",
       "411  netflix  0.006253           1  2025-03-27\n",
       "412  netflix -0.043892           0  2025-03-28\n",
       "413  netflix -0.001413           0  2025-03-31\n",
       "\n",
       "[414 rows x 4 columns]"
      ]
     },
     "execution_count": 109,
     "metadata": {},
     "output_type": "execute_result"
    }
   ],
   "source": [
    "# Dropping unnecessary columns\n",
    "financials = financials.reset_index()\n",
    "financials[\"date\"] = pd.to_datetime(financials[\"Date\"]).dt.date\n",
    "financials = financials.drop(\n",
    "    columns=[\n",
    "        \"Open\",\n",
    "        \"High\",\n",
    "        \"Low\",\n",
    "        \"Close\",\n",
    "        \"Volume\",\n",
    "        \"Dividends\",\n",
    "        \"Stock Splits\",\n",
    "        \"Date\",\n",
    "    ]\n",
    ")\n",
    "print(financials.shape)\n",
    "financials"
   ]
  },
  {
   "cell_type": "code",
   "execution_count": 110,
   "id": "a12bb524",
   "metadata": {
    "scrolled": true
   },
   "outputs": [
    {
     "data": {
      "text/html": [
       "<div>\n",
       "<style scoped>\n",
       "    .dataframe tbody tr th:only-of-type {\n",
       "        vertical-align: middle;\n",
       "    }\n",
       "\n",
       "    .dataframe tbody tr th {\n",
       "        vertical-align: top;\n",
       "    }\n",
       "\n",
       "    .dataframe thead th {\n",
       "        text-align: right;\n",
       "    }\n",
       "</style>\n",
       "<table border=\"1\" class=\"dataframe\">\n",
       "  <thead>\n",
       "    <tr style=\"text-align: right;\">\n",
       "      <th></th>\n",
       "      <th>stock</th>\n",
       "      <th>date</th>\n",
       "      <th>Negative_VADER</th>\n",
       "      <th>Neutral_VADER</th>\n",
       "      <th>Positive_VADER</th>\n",
       "      <th>returns</th>\n",
       "      <th>return_sign</th>\n",
       "    </tr>\n",
       "  </thead>\n",
       "  <tbody>\n",
       "    <tr>\n",
       "      <th>0</th>\n",
       "      <td>amazon</td>\n",
       "      <td>2024-06-03</td>\n",
       "      <td>1.0</td>\n",
       "      <td>0.0</td>\n",
       "      <td>0.0</td>\n",
       "      <td>NaN</td>\n",
       "      <td>0</td>\n",
       "    </tr>\n",
       "    <tr>\n",
       "      <th>1</th>\n",
       "      <td>amazon</td>\n",
       "      <td>2024-06-04</td>\n",
       "      <td>1.0</td>\n",
       "      <td>0.0</td>\n",
       "      <td>2.0</td>\n",
       "      <td>0.005607</td>\n",
       "      <td>1</td>\n",
       "    </tr>\n",
       "    <tr>\n",
       "      <th>2</th>\n",
       "      <td>amazon</td>\n",
       "      <td>2024-06-05</td>\n",
       "      <td>0.0</td>\n",
       "      <td>0.0</td>\n",
       "      <td>3.0</td>\n",
       "      <td>0.010817</td>\n",
       "      <td>1</td>\n",
       "    </tr>\n",
       "    <tr>\n",
       "      <th>3</th>\n",
       "      <td>amazon</td>\n",
       "      <td>2024-06-06</td>\n",
       "      <td>2.0</td>\n",
       "      <td>1.0</td>\n",
       "      <td>9.0</td>\n",
       "      <td>0.020521</td>\n",
       "      <td>1</td>\n",
       "    </tr>\n",
       "    <tr>\n",
       "      <th>4</th>\n",
       "      <td>amazon</td>\n",
       "      <td>2024-06-07</td>\n",
       "      <td>1.0</td>\n",
       "      <td>0.0</td>\n",
       "      <td>7.0</td>\n",
       "      <td>-0.003784</td>\n",
       "      <td>0</td>\n",
       "    </tr>\n",
       "    <tr>\n",
       "      <th>...</th>\n",
       "      <td>...</td>\n",
       "      <td>...</td>\n",
       "      <td>...</td>\n",
       "      <td>...</td>\n",
       "      <td>...</td>\n",
       "      <td>...</td>\n",
       "      <td>...</td>\n",
       "    </tr>\n",
       "    <tr>\n",
       "      <th>338</th>\n",
       "      <td>netflix</td>\n",
       "      <td>2025-03-25</td>\n",
       "      <td>1.0</td>\n",
       "      <td>2.0</td>\n",
       "      <td>2.0</td>\n",
       "      <td>0.026019</td>\n",
       "      <td>1</td>\n",
       "    </tr>\n",
       "    <tr>\n",
       "      <th>339</th>\n",
       "      <td>netflix</td>\n",
       "      <td>2025-03-26</td>\n",
       "      <td>1.0</td>\n",
       "      <td>0.0</td>\n",
       "      <td>0.0</td>\n",
       "      <td>-0.026703</td>\n",
       "      <td>0</td>\n",
       "    </tr>\n",
       "    <tr>\n",
       "      <th>340</th>\n",
       "      <td>netflix</td>\n",
       "      <td>2025-03-27</td>\n",
       "      <td>1.0</td>\n",
       "      <td>0.0</td>\n",
       "      <td>1.0</td>\n",
       "      <td>0.006253</td>\n",
       "      <td>1</td>\n",
       "    </tr>\n",
       "    <tr>\n",
       "      <th>341</th>\n",
       "      <td>netflix</td>\n",
       "      <td>2025-03-28</td>\n",
       "      <td>1.0</td>\n",
       "      <td>0.0</td>\n",
       "      <td>1.0</td>\n",
       "      <td>-0.043892</td>\n",
       "      <td>0</td>\n",
       "    </tr>\n",
       "    <tr>\n",
       "      <th>342</th>\n",
       "      <td>netflix</td>\n",
       "      <td>2025-03-31</td>\n",
       "      <td>0.0</td>\n",
       "      <td>2.0</td>\n",
       "      <td>1.0</td>\n",
       "      <td>-0.001413</td>\n",
       "      <td>0</td>\n",
       "    </tr>\n",
       "  </tbody>\n",
       "</table>\n",
       "<p>343 rows × 7 columns</p>\n",
       "</div>"
      ],
      "text/plain": [
       "       stock        date  Negative_VADER  Neutral_VADER  Positive_VADER  \\\n",
       "0     amazon  2024-06-03             1.0            0.0             0.0   \n",
       "1     amazon  2024-06-04             1.0            0.0             2.0   \n",
       "2     amazon  2024-06-05             0.0            0.0             3.0   \n",
       "3     amazon  2024-06-06             2.0            1.0             9.0   \n",
       "4     amazon  2024-06-07             1.0            0.0             7.0   \n",
       "..       ...         ...             ...            ...             ...   \n",
       "338  netflix  2025-03-25             1.0            2.0             2.0   \n",
       "339  netflix  2025-03-26             1.0            0.0             0.0   \n",
       "340  netflix  2025-03-27             1.0            0.0             1.0   \n",
       "341  netflix  2025-03-28             1.0            0.0             1.0   \n",
       "342  netflix  2025-03-31             0.0            2.0             1.0   \n",
       "\n",
       "      returns return_sign  \n",
       "0         NaN           0  \n",
       "1    0.005607           1  \n",
       "2    0.010817           1  \n",
       "3    0.020521           1  \n",
       "4   -0.003784           0  \n",
       "..        ...         ...  \n",
       "338  0.026019           1  \n",
       "339 -0.026703           0  \n",
       "340  0.006253           1  \n",
       "341 -0.043892           0  \n",
       "342 -0.001413           0  \n",
       "\n",
       "[343 rows x 7 columns]"
      ]
     },
     "execution_count": 110,
     "metadata": {},
     "output_type": "execute_result"
    }
   ],
   "source": [
    "# Merge\n",
    "merged_sentiment = tweet_sentiment_df.merge(\n",
    "    financials, on=[\"stock\", \"date\"], how=\"inner\"\n",
    ")\n",
    "\n",
    "\n",
    "print(merged_sentiment.shape)\n",
    "merged_sentiment"
   ]
  },
  {
   "cell_type": "code",
   "execution_count": 111,
   "id": "5e5d1dc2",
   "metadata": {},
   "outputs": [],
   "source": [
    "merged_sentiment.to_csv(\"merged_sentiment.csv\", index=False)"
   ]
  },
  {
   "cell_type": "code",
   "execution_count": null,
   "id": "33d5f1e1",
   "metadata": {},
   "outputs": [],
   "source": [
    "!git add data_preprocessing_01.ipynb model_training_02.ipynb\n",
    "git commit -m \"Added two separate notebooks for data preprocessing and machine learning\"\n",
    "git push origin main"
   ]
  }
 ],
 "metadata": {
  "jupytext": {
   "cell_metadata_filter": "-all",
   "encoding": "# coding: utf-8",
   "executable": "/usr/bin/env python",
   "main_language": "python",
   "notebook_metadata_filter": "-all"
  },
  "kernelspec": {
   "display_name": "Python 3 (ipykernel)",
   "language": "python",
   "name": "python3"
  },
  "language_info": {
   "codemirror_mode": {
    "name": "ipython",
    "version": 3
   },
   "file_extension": ".py",
   "mimetype": "text/x-python",
   "name": "python",
   "nbconvert_exporter": "python",
   "pygments_lexer": "ipython3",
   "version": "3.10.6"
  },
  "toc": {
   "base_numbering": 1,
   "nav_menu": {},
   "number_sections": true,
   "sideBar": true,
   "skip_h1_title": false,
   "title_cell": "Table of Contents",
   "title_sidebar": "Contents",
   "toc_cell": false,
   "toc_position": {},
   "toc_section_display": true,
   "toc_window_display": false
  }
 },
 "nbformat": 4,
 "nbformat_minor": 5
}
